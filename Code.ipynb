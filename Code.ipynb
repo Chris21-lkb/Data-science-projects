{
  "nbformat": 4,
  "nbformat_minor": 0,
  "metadata": {
    "colab": {
      "provenance": [],
      "gpuType": "T4"
    },
    "kernelspec": {
      "name": "python3",
      "display_name": "Python 3"
    },
    "language_info": {
      "name": "python"
    },
    "accelerator": "GPU"
  },
  "cells": [
    {
      "cell_type": "code",
      "execution_count": null,
      "metadata": {
        "colab": {
          "base_uri": "https://localhost:8080/"
        },
        "id": "a0PfQghoUrb_",
        "outputId": "1acb10b4-acaa-4389-aa35-cef09bcd315a"
      },
      "outputs": [
        {
          "output_type": "stream",
          "name": "stdout",
          "text": [
            "Torch version:  2.2.1+cu121\n"
          ]
        }
      ],
      "source": [
        "import torch\n",
        "import torchvision\n",
        "import pandas as pd\n",
        "import torch.nn as nn\n",
        "from tqdm import tqdm\n",
        "import multiprocessing\n",
        "import torch.optim as optim\n",
        "import torch.nn.functional as  F\n",
        "from torch.utils.data import Dataset\n",
        "from torch.utils.data import DataLoader\n",
        "from torchvision import transforms\n",
        "\n",
        "print(\"Torch version: \", torch. __version__)"
      ]
    },
    {
      "cell_type": "code",
      "source": [
        "# Set device\n",
        "\n",
        "device = torch.device(\"cuda\" if torch.cuda.is_available() else \"cpu\")\n",
        "print(\"Device: \", device)"
      ],
      "metadata": {
        "colab": {
          "base_uri": "https://localhost:8080/"
        },
        "id": "l8_dmzt4UxQO",
        "outputId": "ebe46978-4fb7-4e3e-a1e4-5f0299a36fe8"
      },
      "execution_count": null,
      "outputs": [
        {
          "output_type": "stream",
          "name": "stdout",
          "text": [
            "Device:  cuda\n"
          ]
        }
      ]
    },
    {
      "cell_type": "code",
      "source": [
        "# Prepare data\n",
        "\n",
        "train_set = torchvision.datasets.MNIST('.data/', train=True, download=True)\n",
        "test_set = torchvision.datasets.MNIST('.data/', train=False, download=True)\n",
        "\n",
        "print(\"Train images: \", train_set)\n",
        "print(\"Image: \", train_set[0][0])\n",
        "print(\"Label: \", train_set[0][1])\n",
        "print(\"Label one hot: \", F.one_hot(torch.tensor(train_set[0][1]), num_classes=10))"
      ],
      "metadata": {
        "colab": {
          "base_uri": "https://localhost:8080/"
        },
        "id": "HvUlVNktU2Qo",
        "outputId": "49fd88e7-e788-4fd8-b17d-91bfed4505b9"
      },
      "execution_count": null,
      "outputs": [
        {
          "output_type": "stream",
          "name": "stdout",
          "text": [
            "Downloading http://yann.lecun.com/exdb/mnist/train-images-idx3-ubyte.gz\n",
            "Downloading http://yann.lecun.com/exdb/mnist/train-images-idx3-ubyte.gz to .data/MNIST/raw/train-images-idx3-ubyte.gz\n"
          ]
        },
        {
          "output_type": "stream",
          "name": "stderr",
          "text": [
            "100%|██████████| 9912422/9912422 [00:00<00:00, 120402167.47it/s]\n"
          ]
        },
        {
          "output_type": "stream",
          "name": "stdout",
          "text": [
            "Extracting .data/MNIST/raw/train-images-idx3-ubyte.gz to .data/MNIST/raw\n",
            "\n",
            "Downloading http://yann.lecun.com/exdb/mnist/train-labels-idx1-ubyte.gz\n",
            "Downloading http://yann.lecun.com/exdb/mnist/train-labels-idx1-ubyte.gz to .data/MNIST/raw/train-labels-idx1-ubyte.gz\n"
          ]
        },
        {
          "output_type": "stream",
          "name": "stderr",
          "text": [
            "100%|██████████| 28881/28881 [00:00<00:00, 28739191.89it/s]\n"
          ]
        },
        {
          "output_type": "stream",
          "name": "stdout",
          "text": [
            "Extracting .data/MNIST/raw/train-labels-idx1-ubyte.gz to .data/MNIST/raw\n",
            "\n",
            "Downloading http://yann.lecun.com/exdb/mnist/t10k-images-idx3-ubyte.gz\n",
            "Downloading http://yann.lecun.com/exdb/mnist/t10k-images-idx3-ubyte.gz to .data/MNIST/raw/t10k-images-idx3-ubyte.gz\n"
          ]
        },
        {
          "output_type": "stream",
          "name": "stderr",
          "text": [
            "100%|██████████| 1648877/1648877 [00:00<00:00, 31674436.08it/s]\n"
          ]
        },
        {
          "output_type": "stream",
          "name": "stdout",
          "text": [
            "Extracting .data/MNIST/raw/t10k-images-idx3-ubyte.gz to .data/MNIST/raw\n",
            "\n",
            "Downloading http://yann.lecun.com/exdb/mnist/t10k-labels-idx1-ubyte.gz\n",
            "Downloading http://yann.lecun.com/exdb/mnist/t10k-labels-idx1-ubyte.gz to .data/MNIST/raw/t10k-labels-idx1-ubyte.gz\n"
          ]
        },
        {
          "output_type": "stream",
          "name": "stderr",
          "text": [
            "100%|██████████| 4542/4542 [00:00<00:00, 22491769.50it/s]\n"
          ]
        },
        {
          "output_type": "stream",
          "name": "stdout",
          "text": [
            "Extracting .data/MNIST/raw/t10k-labels-idx1-ubyte.gz to .data/MNIST/raw\n",
            "\n",
            "Train images:  Dataset MNIST\n",
            "    Number of datapoints: 60000\n",
            "    Root location: .data/\n",
            "    Split: Train\n",
            "Image:  <PIL.Image.Image image mode=L size=28x28 at 0x79CA80980100>\n",
            "Label:  5\n",
            "Label one hot:  tensor([0, 0, 0, 0, 0, 1, 0, 0, 0, 0])\n"
          ]
        }
      ]
    },
    {
      "cell_type": "code",
      "source": [
        "# Dataset class\n",
        "\n",
        "class MNIST_dataset(Dataset):\n",
        "\n",
        "    def __init__(self, data, partition = \"train\"):\n",
        "        print(\"\\nLoading MNIST \", partition, \" Dataset...\")\n",
        "        self.data = data\n",
        "        self.partition = partition\n",
        "        print(\"\\tTotal Len.: \", len(self.data), \"\\n\", 50*\"-\")\n",
        "\n",
        "    def __len__(self):\n",
        "        return len(self.data)\n",
        "\n",
        "    def from_pil_to_tensor(self, image):\n",
        "        return torchvision.transforms.ToTensor()(image)\n",
        "\n",
        "    def __getitem__(self, idx):\n",
        "        # Image\n",
        "        image = self.data[idx][0]\n",
        "        # PIL Image to torch tensor\n",
        "        image_tensor = self.from_pil_to_tensor(image)\n",
        "        # care! net expect a 784 size vector and our dataset\n",
        "        # provide 1x28x28 (channels, height, width) -> Reshape!\n",
        "        image_tensor = image_tensor.view(-1)\n",
        "\n",
        "        # Label\n",
        "        label = torch.tensor(self.data[idx][1])\n",
        "        label = F.one_hot(label, num_classes=10).float()\n",
        "\n",
        "        return {\"img\": image_tensor, \"label\": label}\n",
        "\n",
        "train_dataset = MNIST_dataset(train_set, partition=\"train\")\n",
        "test_dataset = MNIST_dataset(test_set, partition=\"test\")"
      ],
      "metadata": {
        "colab": {
          "base_uri": "https://localhost:8080/"
        },
        "id": "kj2R5bAtU4mP",
        "outputId": "e145d329-47be-4fa4-bfce-98d10c73574a"
      },
      "execution_count": null,
      "outputs": [
        {
          "output_type": "stream",
          "name": "stdout",
          "text": [
            "\n",
            "Loading MNIST  train  Dataset...\n",
            "\tTotal Len.:  60000 \n",
            " --------------------------------------------------\n",
            "\n",
            "Loading MNIST  test  Dataset...\n",
            "\tTotal Len.:  10000 \n",
            " --------------------------------------------------\n"
          ]
        }
      ]
    },
    {
      "cell_type": "code",
      "source": [
        "# Dataloader class\n",
        "\n",
        "batch_size = 100\n",
        "num_workers = multiprocessing.cpu_count()-1\n",
        "print(\"Num workers\", num_workers)\n",
        "train_dataloader = DataLoader(train_dataset, batch_size, shuffle=True, num_workers=num_workers)\n",
        "test_dataloader = DataLoader(test_dataset, batch_size, shuffle=False, num_workers=num_workers)"
      ],
      "metadata": {
        "colab": {
          "base_uri": "https://localhost:8080/"
        },
        "id": "KU94r8uYU7dd",
        "outputId": "8604084b-7009-44d4-881b-22a3ab8ec02a"
      },
      "execution_count": null,
      "outputs": [
        {
          "output_type": "stream",
          "name": "stdout",
          "text": [
            "Num workers 1\n"
          ]
        }
      ]
    },
    {
      "cell_type": "code",
      "source": [
        "# Neural network class\n",
        "\n",
        "class Net(nn.Module):\n",
        "    def __init__(self, num_classes):\n",
        "        super(Net, self).__init__()\n",
        "        self.linear1 = nn.Linear(784, 1024)\n",
        "        self.relu1 = nn.ReLU()\n",
        "        self.linear2 = nn.Linear(1024, 1024)\n",
        "        self.relu2 = nn.ReLU()\n",
        "        self.linear3 = nn.Linear(1024, 1024)\n",
        "        self.relu3 = nn.ReLU()\n",
        "        self.classifier = nn.Linear(1024, num_classes)\n",
        "\n",
        "    def forward(self, x):\n",
        "        out = self.relu1(self.linear1(x))\n",
        "        out = self.relu2(self.linear2(out))\n",
        "        out = self.relu3(self.linear3(out))\n",
        "        out = self.classifier(out)\n",
        "        return out\n",
        "\n",
        "\n",
        "# Instantiating the network and printing its architecture\n",
        "num_classes = 10\n",
        "net = Net(num_classes)\n",
        "print(net)\n",
        "\n",
        "def count_parameters(model):\n",
        "    return sum(p.numel() for p in model.parameters() if p.requires_grad)\n",
        "print(\"Params: \", count_parameters(net))"
      ],
      "metadata": {
        "colab": {
          "base_uri": "https://localhost:8080/"
        },
        "id": "yKVwsTXBU-kS",
        "outputId": "90d7e186-7564-410e-ad59-5bc15c081492"
      },
      "execution_count": null,
      "outputs": [
        {
          "output_type": "stream",
          "name": "stdout",
          "text": [
            "Net(\n",
            "  (linear1): Linear(in_features=784, out_features=1024, bias=True)\n",
            "  (relu1): ReLU()\n",
            "  (linear2): Linear(in_features=1024, out_features=1024, bias=True)\n",
            "  (relu2): ReLU()\n",
            "  (linear3): Linear(in_features=1024, out_features=1024, bias=True)\n",
            "  (relu3): ReLU()\n",
            "  (classifier): Linear(in_features=1024, out_features=10, bias=True)\n",
            ")\n",
            "Params:  2913290\n"
          ]
        }
      ]
    },
    {
      "cell_type": "code",
      "source": [
        "# Training hyperparameters\n",
        "criterion = nn.CrossEntropyLoss()\n",
        "optimizer = optim.SGD(net.parameters(), lr=0.01, weight_decay=1e-6, momentum=0.9)\n",
        "epochs = 25"
      ],
      "metadata": {
        "id": "4zGLNGHaVBSh"
      },
      "execution_count": null,
      "outputs": []
    },
    {
      "cell_type": "code",
      "source": [
        "# Load model in GPU\n",
        "net.to(device)\n",
        "\n",
        "print(\"\\n---- Start Training ----\")\n",
        "best_accuracy = -1\n",
        "best_epoch = 0\n",
        "for epoch in range(epochs):\n",
        "    # TRAIN NETWORK\n",
        "    train_loss, train_correct = 0, 0\n",
        "    net.train()\n",
        "    with tqdm(iter(train_dataloader), desc=\"Epoch \" + str(epoch), unit=\"batch\") as tepoch:\n",
        "        for batch in tepoch:\n",
        "\n",
        "            # Returned values of Dataset Class\n",
        "            images = batch[\"img\"].to(device)\n",
        "            labels = batch[\"label\"].to(device)\n",
        "\n",
        "            # zero the parameter gradients\n",
        "            optimizer.zero_grad()\n",
        "\n",
        "            # Forward\n",
        "            outputs = net(images)\n",
        "            loss = criterion(outputs, labels)\n",
        "\n",
        "            # Calculate gradients\n",
        "            loss.backward()\n",
        "\n",
        "            # Update gradients\n",
        "            optimizer.step()\n",
        "\n",
        "            # one hot -> labels\n",
        "            labels = torch.argmax(labels, dim=1)\n",
        "            pred = torch.argmax(outputs, dim=1)\n",
        "            train_correct += pred.eq(labels).sum().item()\n",
        "\n",
        "            # print statistics\n",
        "            train_loss += loss.item()\n",
        "\n",
        "    train_loss /= len(train_dataloader.dataset)\n",
        "\n",
        "    # TEST NETWORK\n",
        "    test_loss, test_correct = 0, 0\n",
        "    net.eval()\n",
        "    with torch.no_grad():\n",
        "      with tqdm(iter(test_dataloader), desc=\"Test \" + str(epoch), unit=\"batch\") as tepoch:\n",
        "          for batch in tepoch:\n",
        "\n",
        "            images = batch[\"img\"].to(device)\n",
        "            labels = batch[\"label\"].to(device)\n",
        "\n",
        "            # Forward\n",
        "            outputs = net(images)\n",
        "            test_loss += criterion(outputs, labels)\n",
        "\n",
        "            # one hot -> labels\n",
        "            labels = torch.argmax(labels, dim=1)\n",
        "            pred = torch.argmax(outputs, dim=1)\n",
        "\n",
        "            test_correct += pred.eq(labels).sum().item()\n",
        "\n",
        "    test_loss /= len(test_dataloader.dataset)\n",
        "    test_accuracy = 100. * test_correct / len(test_dataloader.dataset)\n",
        "\n",
        "    print(\"[Epoch {}] Train Loss: {:.6f} - Test Loss: {:.6f} - Train Accuracy: {:.2f}% - Test Accuracy: {:.2f}%\".format(\n",
        "        epoch + 1, train_loss, test_loss, 100. * train_correct / len(train_dataloader.dataset), test_accuracy\n",
        "    ))\n",
        "\n",
        "    if test_accuracy > best_accuracy:\n",
        "        best_accuracy = test_accuracy\n",
        "        best_epoch = epoch\n",
        "\n",
        "        # Save best weights\n",
        "        torch.save(net.state_dict(), \"best_model.pt\")\n",
        "\n",
        "print(\"\\nBEST TEST ACCURACY: \", best_accuracy, \" in epoch \", best_epoch)"
      ],
      "metadata": {
        "colab": {
          "base_uri": "https://localhost:8080/"
        },
        "id": "lVsAC1tzVDpr",
        "outputId": "2a3fa40f-1216-4d55-e640-6ab8176e4c0b"
      },
      "execution_count": null,
      "outputs": [
        {
          "output_type": "stream",
          "name": "stdout",
          "text": [
            "\n",
            "---- Start Training ----\n"
          ]
        },
        {
          "output_type": "stream",
          "name": "stderr",
          "text": [
            "/usr/lib/python3.10/multiprocessing/popen_fork.py:66: RuntimeWarning: os.fork() was called. os.fork() is incompatible with multithreaded code, and JAX is multithreaded, so this will likely lead to a deadlock.\n",
            "  self.pid = os.fork()\n",
            "Epoch 0: 100%|██████████| 600/600 [00:15<00:00, 37.69batch/s]\n",
            "Test 0: 100%|██████████| 100/100 [00:02<00:00, 37.30batch/s]"
          ]
        },
        {
          "output_type": "stream",
          "name": "stdout",
          "text": [
            "[Epoch 1] Train Loss: 0.007362 - Test Loss: 0.002402 - Train Accuracy: 79.12% - Test Accuracy: 92.97%\n"
          ]
        },
        {
          "output_type": "stream",
          "name": "stderr",
          "text": [
            "\n",
            "Epoch 1: 100%|██████████| 600/600 [00:16<00:00, 37.31batch/s]\n",
            "Test 1: 100%|██████████| 100/100 [00:02<00:00, 46.21batch/s]"
          ]
        },
        {
          "output_type": "stream",
          "name": "stdout",
          "text": [
            "[Epoch 2] Train Loss: 0.001986 - Test Loss: 0.001502 - Train Accuracy: 94.19% - Test Accuracy: 95.46%\n"
          ]
        },
        {
          "output_type": "stream",
          "name": "stderr",
          "text": [
            "\n",
            "Epoch 2: 100%|██████████| 600/600 [00:15<00:00, 38.56batch/s]\n",
            "Test 2: 100%|██████████| 100/100 [00:02<00:00, 39.29batch/s]"
          ]
        },
        {
          "output_type": "stream",
          "name": "stdout",
          "text": [
            "[Epoch 3] Train Loss: 0.001289 - Test Loss: 0.001072 - Train Accuracy: 96.22% - Test Accuracy: 96.62%\n"
          ]
        },
        {
          "output_type": "stream",
          "name": "stderr",
          "text": [
            "\n",
            "Epoch 3: 100%|██████████| 600/600 [00:15<00:00, 37.64batch/s]\n",
            "Test 3: 100%|██████████| 100/100 [00:02<00:00, 46.00batch/s]"
          ]
        },
        {
          "output_type": "stream",
          "name": "stdout",
          "text": [
            "[Epoch 4] Train Loss: 0.000912 - Test Loss: 0.000998 - Train Accuracy: 97.31% - Test Accuracy: 96.81%\n"
          ]
        },
        {
          "output_type": "stream",
          "name": "stderr",
          "text": [
            "\n",
            "Epoch 4: 100%|██████████| 600/600 [00:14<00:00, 40.90batch/s]\n",
            "Test 4: 100%|██████████| 100/100 [00:02<00:00, 45.51batch/s]"
          ]
        },
        {
          "output_type": "stream",
          "name": "stdout",
          "text": [
            "[Epoch 5] Train Loss: 0.000706 - Test Loss: 0.000792 - Train Accuracy: 97.95% - Test Accuracy: 97.60%\n"
          ]
        },
        {
          "output_type": "stream",
          "name": "stderr",
          "text": [
            "\n",
            "Epoch 5: 100%|██████████| 600/600 [00:15<00:00, 38.79batch/s]\n",
            "Test 5: 100%|██████████| 100/100 [00:02<00:00, 45.74batch/s]"
          ]
        },
        {
          "output_type": "stream",
          "name": "stdout",
          "text": [
            "[Epoch 6] Train Loss: 0.000553 - Test Loss: 0.000721 - Train Accuracy: 98.33% - Test Accuracy: 97.75%\n"
          ]
        },
        {
          "output_type": "stream",
          "name": "stderr",
          "text": [
            "\n",
            "Epoch 6: 100%|██████████| 600/600 [00:14<00:00, 41.74batch/s]\n",
            "Test 6: 100%|██████████| 100/100 [00:02<00:00, 45.60batch/s]"
          ]
        },
        {
          "output_type": "stream",
          "name": "stdout",
          "text": [
            "[Epoch 7] Train Loss: 0.000444 - Test Loss: 0.000698 - Train Accuracy: 98.65% - Test Accuracy: 97.82%\n"
          ]
        },
        {
          "output_type": "stream",
          "name": "stderr",
          "text": [
            "\n",
            "Epoch 7: 100%|██████████| 600/600 [00:14<00:00, 41.79batch/s]\n",
            "Test 7: 100%|██████████| 100/100 [00:02<00:00, 35.84batch/s]"
          ]
        },
        {
          "output_type": "stream",
          "name": "stdout",
          "text": [
            "[Epoch 8] Train Loss: 0.000349 - Test Loss: 0.000640 - Train Accuracy: 98.99% - Test Accuracy: 97.88%\n"
          ]
        },
        {
          "output_type": "stream",
          "name": "stderr",
          "text": [
            "\n",
            "Epoch 8: 100%|██████████| 600/600 [00:14<00:00, 42.13batch/s]\n",
            "Test 8: 100%|██████████| 100/100 [00:02<00:00, 45.15batch/s]"
          ]
        },
        {
          "output_type": "stream",
          "name": "stdout",
          "text": [
            "[Epoch 9] Train Loss: 0.000274 - Test Loss: 0.000651 - Train Accuracy: 99.15% - Test Accuracy: 98.00%\n"
          ]
        },
        {
          "output_type": "stream",
          "name": "stderr",
          "text": [
            "\n",
            "Epoch 9: 100%|██████████| 600/600 [00:14<00:00, 41.67batch/s]\n",
            "Test 9: 100%|██████████| 100/100 [00:02<00:00, 44.07batch/s]"
          ]
        },
        {
          "output_type": "stream",
          "name": "stdout",
          "text": [
            "[Epoch 10] Train Loss: 0.000214 - Test Loss: 0.000667 - Train Accuracy: 99.39% - Test Accuracy: 98.08%\n"
          ]
        },
        {
          "output_type": "stream",
          "name": "stderr",
          "text": [
            "\n",
            "Epoch 10: 100%|██████████| 600/600 [00:15<00:00, 39.49batch/s]\n",
            "Test 10: 100%|██████████| 100/100 [00:02<00:00, 44.60batch/s]"
          ]
        },
        {
          "output_type": "stream",
          "name": "stdout",
          "text": [
            "[Epoch 11] Train Loss: 0.000155 - Test Loss: 0.000657 - Train Accuracy: 99.62% - Test Accuracy: 98.03%\n"
          ]
        },
        {
          "output_type": "stream",
          "name": "stderr",
          "text": [
            "\n",
            "Epoch 11: 100%|██████████| 600/600 [00:14<00:00, 42.41batch/s]\n",
            "Test 11: 100%|██████████| 100/100 [00:02<00:00, 45.14batch/s]"
          ]
        },
        {
          "output_type": "stream",
          "name": "stdout",
          "text": [
            "[Epoch 12] Train Loss: 0.000130 - Test Loss: 0.000695 - Train Accuracy: 99.67% - Test Accuracy: 98.03%\n"
          ]
        },
        {
          "output_type": "stream",
          "name": "stderr",
          "text": [
            "\n",
            "Epoch 12: 100%|██████████| 600/600 [00:14<00:00, 41.84batch/s]\n",
            "Test 12: 100%|██████████| 100/100 [00:02<00:00, 38.31batch/s]"
          ]
        },
        {
          "output_type": "stream",
          "name": "stdout",
          "text": [
            "[Epoch 13] Train Loss: 0.000090 - Test Loss: 0.000678 - Train Accuracy: 99.80% - Test Accuracy: 98.01%\n"
          ]
        },
        {
          "output_type": "stream",
          "name": "stderr",
          "text": [
            "\n",
            "Epoch 13: 100%|██████████| 600/600 [00:14<00:00, 40.81batch/s]\n",
            "Test 13: 100%|██████████| 100/100 [00:02<00:00, 45.67batch/s]"
          ]
        },
        {
          "output_type": "stream",
          "name": "stdout",
          "text": [
            "[Epoch 14] Train Loss: 0.000070 - Test Loss: 0.000645 - Train Accuracy: 99.86% - Test Accuracy: 98.11%\n"
          ]
        },
        {
          "output_type": "stream",
          "name": "stderr",
          "text": [
            "\n",
            "Epoch 14: 100%|██████████| 600/600 [00:14<00:00, 41.65batch/s]\n",
            "Test 14: 100%|██████████| 100/100 [00:02<00:00, 40.37batch/s]"
          ]
        },
        {
          "output_type": "stream",
          "name": "stdout",
          "text": [
            "[Epoch 15] Train Loss: 0.000048 - Test Loss: 0.000658 - Train Accuracy: 99.92% - Test Accuracy: 98.15%\n"
          ]
        },
        {
          "output_type": "stream",
          "name": "stderr",
          "text": [
            "\n",
            "Epoch 15: 100%|██████████| 600/600 [00:15<00:00, 39.35batch/s]\n",
            "Test 15: 100%|██████████| 100/100 [00:02<00:00, 44.83batch/s]"
          ]
        },
        {
          "output_type": "stream",
          "name": "stdout",
          "text": [
            "[Epoch 16] Train Loss: 0.000039 - Test Loss: 0.000726 - Train Accuracy: 99.95% - Test Accuracy: 98.09%\n"
          ]
        },
        {
          "output_type": "stream",
          "name": "stderr",
          "text": [
            "\n",
            "Epoch 16: 100%|██████████| 600/600 [00:14<00:00, 41.26batch/s]\n",
            "Test 16: 100%|██████████| 100/100 [00:02<00:00, 44.13batch/s]"
          ]
        },
        {
          "output_type": "stream",
          "name": "stdout",
          "text": [
            "[Epoch 17] Train Loss: 0.000024 - Test Loss: 0.000668 - Train Accuracy: 99.99% - Test Accuracy: 98.27%\n"
          ]
        },
        {
          "output_type": "stream",
          "name": "stderr",
          "text": [
            "\n",
            "Epoch 17: 100%|██████████| 600/600 [00:14<00:00, 41.39batch/s]\n",
            "Test 17: 100%|██████████| 100/100 [00:02<00:00, 35.14batch/s]\n"
          ]
        },
        {
          "output_type": "stream",
          "name": "stdout",
          "text": [
            "[Epoch 18] Train Loss: 0.000018 - Test Loss: 0.000660 - Train Accuracy: 99.99% - Test Accuracy: 98.31%\n"
          ]
        },
        {
          "output_type": "stream",
          "name": "stderr",
          "text": [
            "Epoch 18: 100%|██████████| 600/600 [00:14<00:00, 41.75batch/s]\n",
            "Test 18: 100%|██████████| 100/100 [00:02<00:00, 45.89batch/s]"
          ]
        },
        {
          "output_type": "stream",
          "name": "stdout",
          "text": [
            "[Epoch 19] Train Loss: 0.000013 - Test Loss: 0.000679 - Train Accuracy: 100.00% - Test Accuracy: 98.24%\n"
          ]
        },
        {
          "output_type": "stream",
          "name": "stderr",
          "text": [
            "\n",
            "Epoch 19: 100%|██████████| 600/600 [00:14<00:00, 41.23batch/s]\n",
            "Test 19: 100%|██████████| 100/100 [00:02<00:00, 44.32batch/s]"
          ]
        },
        {
          "output_type": "stream",
          "name": "stdout",
          "text": [
            "[Epoch 20] Train Loss: 0.000011 - Test Loss: 0.000672 - Train Accuracy: 100.00% - Test Accuracy: 98.29%\n"
          ]
        },
        {
          "output_type": "stream",
          "name": "stderr",
          "text": [
            "\n",
            "Epoch 20: 100%|██████████| 600/600 [00:15<00:00, 39.56batch/s]\n",
            "Test 20: 100%|██████████| 100/100 [00:02<00:00, 44.36batch/s]\n"
          ]
        },
        {
          "output_type": "stream",
          "name": "stdout",
          "text": [
            "[Epoch 21] Train Loss: 0.000010 - Test Loss: 0.000689 - Train Accuracy: 100.00% - Test Accuracy: 98.36%\n"
          ]
        },
        {
          "output_type": "stream",
          "name": "stderr",
          "text": [
            "Epoch 21: 100%|██████████| 600/600 [00:14<00:00, 41.05batch/s]\n",
            "Test 21: 100%|██████████| 100/100 [00:02<00:00, 45.03batch/s]"
          ]
        },
        {
          "output_type": "stream",
          "name": "stdout",
          "text": [
            "[Epoch 22] Train Loss: 0.000009 - Test Loss: 0.000704 - Train Accuracy: 100.00% - Test Accuracy: 98.30%\n"
          ]
        },
        {
          "output_type": "stream",
          "name": "stderr",
          "text": [
            "\n",
            "Epoch 22: 100%|██████████| 600/600 [00:14<00:00, 41.53batch/s]\n",
            "Test 22: 100%|██████████| 100/100 [00:02<00:00, 36.30batch/s]"
          ]
        },
        {
          "output_type": "stream",
          "name": "stdout",
          "text": [
            "[Epoch 23] Train Loss: 0.000008 - Test Loss: 0.000712 - Train Accuracy: 100.00% - Test Accuracy: 98.29%\n"
          ]
        },
        {
          "output_type": "stream",
          "name": "stderr",
          "text": [
            "\n",
            "Epoch 23: 100%|██████████| 600/600 [00:14<00:00, 41.24batch/s]\n",
            "Test 23: 100%|██████████| 100/100 [00:02<00:00, 44.13batch/s]"
          ]
        },
        {
          "output_type": "stream",
          "name": "stdout",
          "text": [
            "[Epoch 24] Train Loss: 0.000007 - Test Loss: 0.000708 - Train Accuracy: 100.00% - Test Accuracy: 98.31%\n"
          ]
        },
        {
          "output_type": "stream",
          "name": "stderr",
          "text": [
            "\n",
            "Epoch 24: 100%|██████████| 600/600 [00:14<00:00, 41.20batch/s]\n",
            "Test 24: 100%|██████████| 100/100 [00:02<00:00, 44.42batch/s]"
          ]
        },
        {
          "output_type": "stream",
          "name": "stdout",
          "text": [
            "[Epoch 25] Train Loss: 0.000006 - Test Loss: 0.000725 - Train Accuracy: 100.00% - Test Accuracy: 98.30%\n",
            "\n",
            "BEST TEST ACCURACY:  98.36  in epoch  20\n"
          ]
        },
        {
          "output_type": "stream",
          "name": "stderr",
          "text": [
            "\n"
          ]
        }
      ]
    },
    {
      "cell_type": "code",
      "source": [
        "# Add batchnorm\n",
        "\n",
        "class Net(nn.Module):\n",
        "    def __init__(self, sizes=[[784, 512], [512, 512], [512, 512], [512, 10]], criterion=None):\n",
        "        super(Net, self).__init__()\n",
        "\n",
        "        self.layers = nn.ModuleList()\n",
        "\n",
        "        for i in range(len(sizes)-1):\n",
        "            dims = sizes[i]\n",
        "            self.layers.append(nn.Linear(dims[0], dims[1]))\n",
        "            self.layers.append(nn.BatchNorm1d(dims[1]))\n",
        "            self.layers.append(nn.ReLU())\n",
        "\n",
        "        dims = sizes[-1]\n",
        "        self.classifier = nn.Linear(dims[0], dims[1])\n",
        "\n",
        "        self.criterion = criterion\n",
        "\n",
        "    def forward(self, x, y=None):\n",
        "        for layer in self.layers:\n",
        "            x = layer(x)\n",
        "        x = self.classifier(x)\n",
        "\n",
        "        if y != None:\n",
        "            loss = self.criterion(x, labels)\n",
        "            return loss, x\n",
        "        return x\n",
        "\n",
        "# Instantiating the network and printing its architecture\n",
        "num_classes = 10\n",
        "net = Net(sizes=[[784, 512], [512, 512], [512, 512], [512, num_classes]], criterion=criterion)\n",
        "print(net)\n",
        "\n",
        "def count_parameters(model):\n",
        "    return sum(p.numel() for p in model.parameters() if p.requires_grad)\n",
        "print(\"Params: \", count_parameters(net))"
      ],
      "metadata": {
        "colab": {
          "base_uri": "https://localhost:8080/"
        },
        "id": "i20LS6ZXVGg4",
        "outputId": "86c8684d-ca09-47cb-ec75-a8d9543620fb"
      },
      "execution_count": null,
      "outputs": [
        {
          "output_type": "stream",
          "name": "stdout",
          "text": [
            "Net(\n",
            "  (layers): ModuleList(\n",
            "    (0): Linear(in_features=784, out_features=512, bias=True)\n",
            "    (1): BatchNorm1d(512, eps=1e-05, momentum=0.1, affine=True, track_running_stats=True)\n",
            "    (2): ReLU()\n",
            "    (3): Linear(in_features=512, out_features=512, bias=True)\n",
            "    (4): BatchNorm1d(512, eps=1e-05, momentum=0.1, affine=True, track_running_stats=True)\n",
            "    (5): ReLU()\n",
            "    (6): Linear(in_features=512, out_features=512, bias=True)\n",
            "    (7): BatchNorm1d(512, eps=1e-05, momentum=0.1, affine=True, track_running_stats=True)\n",
            "    (8): ReLU()\n",
            "  )\n",
            "  (classifier): Linear(in_features=512, out_features=10, bias=True)\n",
            "  (criterion): CrossEntropyLoss()\n",
            ")\n",
            "Params:  935434\n"
          ]
        }
      ]
    },
    {
      "cell_type": "code",
      "source": [
        "# Add LRA\n",
        "\n",
        "# Training hyperparameters\n",
        "optimizer = optim.SGD(net.parameters(), lr=0.1, weight_decay=1e-6, momentum=0.9)\n",
        "\n",
        "# Learning Rate Annealing (LRA) scheduling\n",
        "# lr = 0.1     if epoch < 25\n",
        "# lr = 0.01    if 25 <= epoch < 50\n",
        "# lr = 0.001   if epoch >= 50\n",
        "scheduler = torch.optim.lr_scheduler.MultiStepLR(optimizer, milestones=[25, 50], gamma=0.1)\n",
        "\n",
        "net = net.to(device)\n",
        "\n",
        "# Start training\n",
        "epochs = 75"
      ],
      "metadata": {
        "id": "zwePt0NmVL9s"
      },
      "execution_count": null,
      "outputs": []
    },
    {
      "cell_type": "code",
      "source": [
        "# Add DA\n",
        "\n",
        "train_transform = transforms.Compose([\n",
        "    transforms.RandomRotation(degrees=10),  # Rotación aleatoria hasta 10 grados\n",
        "    transforms.RandomAffine(degrees=20, translate=(0.1, 0.1), scale=(0.9, 1.1)),  # Rotación, traslación y escala aleatorias\n",
        "    transforms.ToTensor(),\n",
        "])\n",
        "\n",
        "test_transform = transforms.Compose([\n",
        "    transforms.ToTensor(),\n",
        "])"
      ],
      "metadata": {
        "id": "mfdSjb0pXT8H"
      },
      "execution_count": null,
      "outputs": []
    },
    {
      "cell_type": "code",
      "source": [
        "class MNIST_dataset(Dataset):\n",
        "\n",
        "    def __init__(self, partition = \"train\", transform=None):\n",
        "\n",
        "        print(\"\\nLoading MNIST \", partition, \" Dataset...\")\n",
        "        self.partition = partition\n",
        "        self.transform = transform\n",
        "        if self.partition == \"train\":\n",
        "            self.data = torchvision.datasets.MNIST('.data/', train=True, download=True)\n",
        "        else:\n",
        "            self.data = torchvision.datasets.MNIST('.data/', train=False, download=True)\n",
        "        print(\"\\tTotal Len.: \", len(self.data), \"\\n\", 50*\"-\")\n",
        "\n",
        "    def __len__(self):\n",
        "        return len(self.data)\n",
        "\n",
        "    def __getitem__(self, idx):\n",
        "\n",
        "        # Image\n",
        "        image = self.data[idx][0]\n",
        "        image = self.transform(image)\n",
        "        # care! net expect a 784 size vector and our dataset\n",
        "        # provide 1x28x28 (channels, height, width) -> Reshape!\n",
        "        image = image.view(-1)\n",
        "\n",
        "        # Label\n",
        "        label = torch.tensor(self.data[idx][1])\n",
        "        label = F.one_hot(label, num_classes=10).float()\n",
        "\n",
        "        return {\"idx\": idx, \"img\": image, \"label\": label}\n",
        "\n",
        "train_dataset = MNIST_dataset(partition=\"train\", transform=train_transform)\n",
        "test_dataset = MNIST_dataset(partition=\"test\", transform=test_transform)"
      ],
      "metadata": {
        "colab": {
          "base_uri": "https://localhost:8080/"
        },
        "id": "65k5ZuIyVPAE",
        "outputId": "31b2fc34-3a69-4ce5-9bba-fd6c6cbb00ff"
      },
      "execution_count": null,
      "outputs": [
        {
          "output_type": "stream",
          "name": "stdout",
          "text": [
            "\n",
            "Loading MNIST  train  Dataset...\n",
            "\tTotal Len.:  60000 \n",
            " --------------------------------------------------\n",
            "\n",
            "Loading MNIST  test  Dataset...\n",
            "\tTotal Len.:  10000 \n",
            " --------------------------------------------------\n"
          ]
        }
      ]
    },
    {
      "cell_type": "code",
      "source": [
        "batch_size = 100\n",
        "num_workers = multiprocessing.cpu_count()-1\n",
        "print(\"Num workers\", num_workers)\n",
        "train_dataloader = DataLoader(train_dataset, batch_size, shuffle=True, num_workers=num_workers)\n",
        "test_dataloader = DataLoader(test_dataset, batch_size, shuffle=False, num_workers=num_workers)"
      ],
      "metadata": {
        "colab": {
          "base_uri": "https://localhost:8080/"
        },
        "id": "zBKDP30oVTS7",
        "outputId": "3b34aceb-6d5c-4756-953d-667244c548f8"
      },
      "execution_count": null,
      "outputs": [
        {
          "output_type": "stream",
          "name": "stdout",
          "text": [
            "Num workers 1\n"
          ]
        }
      ]
    },
    {
      "cell_type": "code",
      "source": [
        "class Net(nn.Module):\n",
        "    def __init__(self, sizes=[[784, 1024], [1024, 1024], [1024, 1024], [1024, 10]], criterion=None):\n",
        "        super(Net, self).__init__()\n",
        "\n",
        "        self.layers = nn.ModuleList()\n",
        "\n",
        "        for i in range(len(sizes)-1):\n",
        "            dims = sizes[i]\n",
        "            self.layers.append(nn.Linear(dims[0], dims[1]))\n",
        "            self.layers.append(nn.BatchNorm1d(dims[1]))\n",
        "            self.layers.append(nn.ReLU())\n",
        "\n",
        "        dims = sizes[-1]\n",
        "        self.classifier = nn.Linear(dims[0], dims[1])\n",
        "\n",
        "        self.criterion = criterion\n",
        "\n",
        "    def forward(self, x, y=None):\n",
        "        for layer in self.layers:\n",
        "            x = layer(x)\n",
        "        x = self.classifier(x)\n",
        "\n",
        "        if y != None:\n",
        "            loss = self.criterion(x, y)\n",
        "            return loss, x\n",
        "        return x\n",
        "\n",
        "# Training Settings\n",
        "criterion = nn.CrossEntropyLoss()\n",
        "\n",
        "# Instantiating the network and printing its architecture\n",
        "num_classes = 10\n",
        "net = Net(sizes=[[784, 1024], [1024, 1024], [1024, 1024], [1024, num_classes]], criterion=criterion)\n",
        "print(net)\n",
        "\n",
        "def count_parameters(model):\n",
        "    return sum(p.numel() for p in model.parameters() if p.requires_grad)\n",
        "print(\"Params: \", count_parameters(net))"
      ],
      "metadata": {
        "colab": {
          "base_uri": "https://localhost:8080/"
        },
        "id": "4snso81PVVi5",
        "outputId": "77889f28-046b-46b4-8942-5e90473e2894"
      },
      "execution_count": null,
      "outputs": [
        {
          "output_type": "stream",
          "name": "stdout",
          "text": [
            "Net(\n",
            "  (layers): ModuleList(\n",
            "    (0): Linear(in_features=784, out_features=1024, bias=True)\n",
            "    (1): BatchNorm1d(1024, eps=1e-05, momentum=0.1, affine=True, track_running_stats=True)\n",
            "    (2): ReLU()\n",
            "    (3): Linear(in_features=1024, out_features=1024, bias=True)\n",
            "    (4): BatchNorm1d(1024, eps=1e-05, momentum=0.1, affine=True, track_running_stats=True)\n",
            "    (5): ReLU()\n",
            "    (6): Linear(in_features=1024, out_features=1024, bias=True)\n",
            "    (7): BatchNorm1d(1024, eps=1e-05, momentum=0.1, affine=True, track_running_stats=True)\n",
            "    (8): ReLU()\n",
            "  )\n",
            "  (classifier): Linear(in_features=1024, out_features=10, bias=True)\n",
            "  (criterion): CrossEntropyLoss()\n",
            ")\n",
            "Params:  2919434\n"
          ]
        }
      ]
    },
    {
      "cell_type": "code",
      "source": [
        "# Training hyperparameters\n",
        "optimizer = optim.SGD(net.parameters(), lr=0.1, weight_decay=1e-6, momentum=0.9)\n",
        "\n",
        "# Learning Rate Annealing (LRA) scheduling\n",
        "# lr = 0.1     if epoch < 25\n",
        "# lr = 0.01    if 25 <= epoch < 50\n",
        "# lr = 0.001   if epoch >= 50\n",
        "scheduler = torch.optim.lr_scheduler.MultiStepLR(optimizer, milestones=[25, 50], gamma=0.1)\n",
        "\n",
        "net = net.to(device)\n",
        "\n",
        "# Start training\n",
        "epochs = 75"
      ],
      "metadata": {
        "id": "jo-EHed-VX-n"
      },
      "execution_count": null,
      "outputs": []
    },
    {
      "cell_type": "code",
      "source": [
        "# Start training\n",
        "epochs = 75\n",
        "\n",
        "print(\"\\n---- Start Training ----\")\n",
        "best_accuracy = -1\n",
        "best_epoch = 0\n",
        "for epoch in range(epochs):\n",
        "\n",
        "\n",
        "    # TRAIN NETWORK\n",
        "    train_loss, train_correct = 0, 0\n",
        "    net.train()\n",
        "    with tqdm(iter(train_dataloader), desc=\"Epoch \" + str(epoch), unit=\"batch\") as tepoch:\n",
        "        for batch in tepoch:\n",
        "\n",
        "          images = batch[\"img\"].to(device)\n",
        "          labels = batch[\"label\"].to(device)\n",
        "          ids = batch[\"idx\"].to('cpu').numpy()\n",
        "\n",
        "          # zero the parameter gradients\n",
        "          optimizer.zero_grad()\n",
        "\n",
        "          #  Forward\n",
        "          loss, outputs = net(images, labels)\n",
        "\n",
        "          loss.backward()\n",
        "\n",
        "          optimizer.step()\n",
        "\n",
        "          # one hot -> labels\n",
        "          labels = torch.argmax(labels, dim=1)\n",
        "          pred = torch.argmax(outputs, dim=1)\n",
        "\n",
        "          train_correct += pred.eq(labels).sum().item()\n",
        "\n",
        "          # print statistics\n",
        "          train_loss += loss.item()\n",
        "\n",
        "        scheduler.step()\n",
        "        print(\"\\tLR: \", optimizer.param_groups[0]['lr'])\n",
        "\n",
        "    train_loss /= len(train_dataloader.dataset)\n",
        "\n",
        "    # TEST NETWORK\n",
        "    test_loss, test_correct = 0, 0\n",
        "    net.eval()\n",
        "    with torch.no_grad():\n",
        "      with tqdm(iter(test_dataloader), desc=\"Test \" + str(epoch), unit=\"batch\") as tepoch:\n",
        "          for batch in tepoch:\n",
        "\n",
        "            images = batch[\"img\"].to(device)\n",
        "            labels = batch[\"label\"].to(device)\n",
        "            ids = batch[\"idx\"].to('cpu').numpy()\n",
        "\n",
        "            #  Forward\n",
        "            outputs = net(images)\n",
        "            test_loss += criterion(outputs, labels)\n",
        "\n",
        "            # one hot -> labels\n",
        "            labels = torch.argmax(labels, dim=1)\n",
        "            pred = torch.argmax(outputs, dim=1)\n",
        "\n",
        "            test_correct += pred.eq(labels).sum().item()\n",
        "\n",
        "    test_loss /= len(test_dataloader.dataset)\n",
        "    test_accuracy = 100. * test_correct / len(test_dataloader.dataset)\n",
        "\n",
        "    print(\"[Epoch {}] Train Loss: {:.6f} - Test Loss: {:.6f} - Train Accuracy: {:.2f}% - Test Accuracy: {:.2f}%\".format(\n",
        "        epoch + 1, train_loss, test_loss, 100. * train_correct / len(train_dataloader.dataset), test_accuracy\n",
        "    ))\n",
        "\n",
        "    if test_accuracy > best_accuracy:\n",
        "        best_accuracy = test_accuracy\n",
        "        best_epoch = epoch\n",
        "\n",
        "        # Save best weights\n",
        "        torch.save(net.state_dict(), \"best_model.pt\")\n",
        "\n",
        "print(\"\\nBEST TEST ACCURACY: \", best_accuracy, \" in epoch \", best_epoch)\n",
        "\n",
        "\n",
        "# Load best weights\n",
        "net.load_state_dict(torch.load(\"best_model.pt\"))\n",
        "\n",
        "test_loss, test_correct = 0, 0\n",
        "net.eval()\n",
        "with torch.no_grad():\n",
        "    with tqdm(iter(test_dataloader), desc=\"Test \" + str(epoch), unit=\"batch\") as tepoch:\n",
        "        for batch in tepoch:\n",
        "\n",
        "            images = batch[\"img\"].to(device)\n",
        "            labels = batch[\"label\"].to(device)\n",
        "            ids = batch[\"idx\"].to('cpu').numpy()\n",
        "\n",
        "            #  Forward\n",
        "            outputs = net(images)\n",
        "            test_loss += criterion(outputs, labels)\n",
        "\n",
        "            # one hot -> labels\n",
        "            labels = torch.argmax(labels, dim=1)\n",
        "            pred = torch.argmax(outputs, dim=1)\n",
        "\n",
        "            test_correct += pred.eq(labels).sum().item()\n",
        "\n",
        "    test_loss /= len(test_dataloader.dataset)\n",
        "    test_accuracy = 100. * test_correct / len(test_dataloader.dataset)\n",
        "print(\"Final best acc: \", test_accuracy)"
      ],
      "metadata": {
        "colab": {
          "base_uri": "https://localhost:8080/"
        },
        "id": "xCY2VtOOVZ0O",
        "outputId": "863f2207-ee51-4b79-a221-c9f7c5090156"
      },
      "execution_count": null,
      "outputs": [
        {
          "output_type": "stream",
          "name": "stdout",
          "text": [
            "\n",
            "---- Start Training ----\n"
          ]
        },
        {
          "output_type": "stream",
          "name": "stderr",
          "text": [
            "Epoch 0: 100%|██████████| 600/600 [00:27<00:00, 22.08batch/s]"
          ]
        },
        {
          "output_type": "stream",
          "name": "stdout",
          "text": [
            "\tLR:  0.1\n"
          ]
        },
        {
          "output_type": "stream",
          "name": "stderr",
          "text": [
            "\n",
            "Test 0: 100%|██████████| 100/100 [00:02<00:00, 42.78batch/s]"
          ]
        },
        {
          "output_type": "stream",
          "name": "stdout",
          "text": [
            "[Epoch 1] Train Loss: 0.006287 - Test Loss: 0.001391 - Train Accuracy: 82.70% - Test Accuracy: 95.70%\n"
          ]
        },
        {
          "output_type": "stream",
          "name": "stderr",
          "text": [
            "\n",
            "Epoch 1: 100%|██████████| 600/600 [00:26<00:00, 22.40batch/s]"
          ]
        },
        {
          "output_type": "stream",
          "name": "stdout",
          "text": [
            "\tLR:  0.1\n"
          ]
        },
        {
          "output_type": "stream",
          "name": "stderr",
          "text": [
            "\n",
            "Test 1: 100%|██████████| 100/100 [00:02<00:00, 34.16batch/s]"
          ]
        },
        {
          "output_type": "stream",
          "name": "stdout",
          "text": [
            "[Epoch 2] Train Loss: 0.002671 - Test Loss: 0.000899 - Train Accuracy: 91.61% - Test Accuracy: 97.19%\n"
          ]
        },
        {
          "output_type": "stream",
          "name": "stderr",
          "text": [
            "\n",
            "Epoch 2: 100%|██████████| 600/600 [00:27<00:00, 22.18batch/s]"
          ]
        },
        {
          "output_type": "stream",
          "name": "stdout",
          "text": [
            "\tLR:  0.1\n"
          ]
        },
        {
          "output_type": "stream",
          "name": "stderr",
          "text": [
            "\n",
            "Test 2: 100%|██████████| 100/100 [00:02<00:00, 43.49batch/s]"
          ]
        },
        {
          "output_type": "stream",
          "name": "stdout",
          "text": [
            "[Epoch 3] Train Loss: 0.002045 - Test Loss: 0.000746 - Train Accuracy: 93.59% - Test Accuracy: 97.63%\n"
          ]
        },
        {
          "output_type": "stream",
          "name": "stderr",
          "text": [
            "\n",
            "Epoch 3: 100%|██████████| 600/600 [00:26<00:00, 22.49batch/s]"
          ]
        },
        {
          "output_type": "stream",
          "name": "stdout",
          "text": [
            "\tLR:  0.1\n"
          ]
        },
        {
          "output_type": "stream",
          "name": "stderr",
          "text": [
            "\n",
            "Test 3: 100%|██████████| 100/100 [00:02<00:00, 43.52batch/s]"
          ]
        },
        {
          "output_type": "stream",
          "name": "stdout",
          "text": [
            "[Epoch 4] Train Loss: 0.001781 - Test Loss: 0.000592 - Train Accuracy: 94.51% - Test Accuracy: 98.11%\n"
          ]
        },
        {
          "output_type": "stream",
          "name": "stderr",
          "text": [
            "\n",
            "Epoch 4: 100%|██████████| 600/600 [00:27<00:00, 21.98batch/s]"
          ]
        },
        {
          "output_type": "stream",
          "name": "stdout",
          "text": [
            "\tLR:  0.1\n"
          ]
        },
        {
          "output_type": "stream",
          "name": "stderr",
          "text": [
            "\n",
            "Test 4: 100%|██████████| 100/100 [00:02<00:00, 42.80batch/s]"
          ]
        },
        {
          "output_type": "stream",
          "name": "stdout",
          "text": [
            "[Epoch 5] Train Loss: 0.001556 - Test Loss: 0.000512 - Train Accuracy: 95.03% - Test Accuracy: 98.52%\n"
          ]
        },
        {
          "output_type": "stream",
          "name": "stderr",
          "text": [
            "\n",
            "Epoch 5: 100%|██████████| 600/600 [00:27<00:00, 22.02batch/s]"
          ]
        },
        {
          "output_type": "stream",
          "name": "stdout",
          "text": [
            "\tLR:  0.1\n"
          ]
        },
        {
          "output_type": "stream",
          "name": "stderr",
          "text": [
            "\n",
            "Test 5: 100%|██████████| 100/100 [00:02<00:00, 43.70batch/s]"
          ]
        },
        {
          "output_type": "stream",
          "name": "stdout",
          "text": [
            "[Epoch 6] Train Loss: 0.001409 - Test Loss: 0.000535 - Train Accuracy: 95.53% - Test Accuracy: 98.24%\n"
          ]
        },
        {
          "output_type": "stream",
          "name": "stderr",
          "text": [
            "\n",
            "Epoch 6: 100%|██████████| 600/600 [00:27<00:00, 21.77batch/s]"
          ]
        },
        {
          "output_type": "stream",
          "name": "stdout",
          "text": [
            "\tLR:  0.1\n"
          ]
        },
        {
          "output_type": "stream",
          "name": "stderr",
          "text": [
            "\n",
            "Test 6: 100%|██████████| 100/100 [00:02<00:00, 40.83batch/s]"
          ]
        },
        {
          "output_type": "stream",
          "name": "stdout",
          "text": [
            "[Epoch 7] Train Loss: 0.001318 - Test Loss: 0.000488 - Train Accuracy: 95.87% - Test Accuracy: 98.54%\n"
          ]
        },
        {
          "output_type": "stream",
          "name": "stderr",
          "text": [
            "\n",
            "Epoch 7: 100%|██████████| 600/600 [00:26<00:00, 22.24batch/s]"
          ]
        },
        {
          "output_type": "stream",
          "name": "stdout",
          "text": [
            "\tLR:  0.1\n"
          ]
        },
        {
          "output_type": "stream",
          "name": "stderr",
          "text": [
            "\n",
            "Test 7: 100%|██████████| 100/100 [00:02<00:00, 43.35batch/s]"
          ]
        },
        {
          "output_type": "stream",
          "name": "stdout",
          "text": [
            "[Epoch 8] Train Loss: 0.001250 - Test Loss: 0.000493 - Train Accuracy: 96.03% - Test Accuracy: 98.37%\n"
          ]
        },
        {
          "output_type": "stream",
          "name": "stderr",
          "text": [
            "\n",
            "Epoch 8: 100%|██████████| 600/600 [00:26<00:00, 22.29batch/s]"
          ]
        },
        {
          "output_type": "stream",
          "name": "stdout",
          "text": [
            "\tLR:  0.1\n"
          ]
        },
        {
          "output_type": "stream",
          "name": "stderr",
          "text": [
            "\n",
            "Test 8: 100%|██████████| 100/100 [00:02<00:00, 34.01batch/s]\n"
          ]
        },
        {
          "output_type": "stream",
          "name": "stdout",
          "text": [
            "[Epoch 9] Train Loss: 0.001159 - Test Loss: 0.000397 - Train Accuracy: 96.32% - Test Accuracy: 98.61%\n"
          ]
        },
        {
          "output_type": "stream",
          "name": "stderr",
          "text": [
            "Epoch 9: 100%|██████████| 600/600 [00:26<00:00, 22.32batch/s]"
          ]
        },
        {
          "output_type": "stream",
          "name": "stdout",
          "text": [
            "\tLR:  0.1\n"
          ]
        },
        {
          "output_type": "stream",
          "name": "stderr",
          "text": [
            "\n",
            "Test 9: 100%|██████████| 100/100 [00:02<00:00, 43.43batch/s]"
          ]
        },
        {
          "output_type": "stream",
          "name": "stdout",
          "text": [
            "[Epoch 10] Train Loss: 0.001158 - Test Loss: 0.000375 - Train Accuracy: 96.35% - Test Accuracy: 98.78%\n"
          ]
        },
        {
          "output_type": "stream",
          "name": "stderr",
          "text": [
            "\n",
            "Epoch 10: 100%|██████████| 600/600 [00:26<00:00, 22.36batch/s]"
          ]
        },
        {
          "output_type": "stream",
          "name": "stdout",
          "text": [
            "\tLR:  0.1\n"
          ]
        },
        {
          "output_type": "stream",
          "name": "stderr",
          "text": [
            "\n",
            "Test 10: 100%|██████████| 100/100 [00:02<00:00, 43.87batch/s]"
          ]
        },
        {
          "output_type": "stream",
          "name": "stdout",
          "text": [
            "[Epoch 11] Train Loss: 0.001007 - Test Loss: 0.000337 - Train Accuracy: 96.77% - Test Accuracy: 98.94%\n"
          ]
        },
        {
          "output_type": "stream",
          "name": "stderr",
          "text": [
            "\n",
            "Epoch 11: 100%|██████████| 600/600 [00:27<00:00, 21.92batch/s]"
          ]
        },
        {
          "output_type": "stream",
          "name": "stdout",
          "text": [
            "\tLR:  0.1\n"
          ]
        },
        {
          "output_type": "stream",
          "name": "stderr",
          "text": [
            "\n",
            "Test 11: 100%|██████████| 100/100 [00:02<00:00, 44.40batch/s]"
          ]
        },
        {
          "output_type": "stream",
          "name": "stdout",
          "text": [
            "[Epoch 12] Train Loss: 0.001016 - Test Loss: 0.000402 - Train Accuracy: 96.74% - Test Accuracy: 98.58%\n"
          ]
        },
        {
          "output_type": "stream",
          "name": "stderr",
          "text": [
            "\n",
            "Epoch 12: 100%|██████████| 600/600 [00:26<00:00, 22.38batch/s]"
          ]
        },
        {
          "output_type": "stream",
          "name": "stdout",
          "text": [
            "\tLR:  0.1\n"
          ]
        },
        {
          "output_type": "stream",
          "name": "stderr",
          "text": [
            "\n",
            "Test 12: 100%|██████████| 100/100 [00:02<00:00, 42.89batch/s]"
          ]
        },
        {
          "output_type": "stream",
          "name": "stdout",
          "text": [
            "[Epoch 13] Train Loss: 0.000975 - Test Loss: 0.000443 - Train Accuracy: 96.93% - Test Accuracy: 98.54%\n"
          ]
        },
        {
          "output_type": "stream",
          "name": "stderr",
          "text": [
            "\n",
            "Epoch 13: 100%|██████████| 600/600 [00:27<00:00, 22.06batch/s]"
          ]
        },
        {
          "output_type": "stream",
          "name": "stdout",
          "text": [
            "\tLR:  0.1\n"
          ]
        },
        {
          "output_type": "stream",
          "name": "stderr",
          "text": [
            "\n",
            "Test 13: 100%|██████████| 100/100 [00:02<00:00, 36.77batch/s]"
          ]
        },
        {
          "output_type": "stream",
          "name": "stdout",
          "text": [
            "[Epoch 14] Train Loss: 0.000922 - Test Loss: 0.000358 - Train Accuracy: 97.06% - Test Accuracy: 98.91%\n"
          ]
        },
        {
          "output_type": "stream",
          "name": "stderr",
          "text": [
            "\n",
            "Epoch 14: 100%|██████████| 600/600 [00:26<00:00, 22.40batch/s]"
          ]
        },
        {
          "output_type": "stream",
          "name": "stdout",
          "text": [
            "\tLR:  0.1\n"
          ]
        },
        {
          "output_type": "stream",
          "name": "stderr",
          "text": [
            "\n",
            "Test 14: 100%|██████████| 100/100 [00:02<00:00, 44.42batch/s]"
          ]
        },
        {
          "output_type": "stream",
          "name": "stdout",
          "text": [
            "[Epoch 15] Train Loss: 0.000883 - Test Loss: 0.000328 - Train Accuracy: 97.18% - Test Accuracy: 98.87%\n"
          ]
        },
        {
          "output_type": "stream",
          "name": "stderr",
          "text": [
            "\n",
            "Epoch 15: 100%|██████████| 600/600 [00:26<00:00, 22.46batch/s]"
          ]
        },
        {
          "output_type": "stream",
          "name": "stdout",
          "text": [
            "\tLR:  0.1\n"
          ]
        },
        {
          "output_type": "stream",
          "name": "stderr",
          "text": [
            "\n",
            "Test 15: 100%|██████████| 100/100 [00:02<00:00, 40.09batch/s]"
          ]
        },
        {
          "output_type": "stream",
          "name": "stdout",
          "text": [
            "[Epoch 16] Train Loss: 0.000894 - Test Loss: 0.000318 - Train Accuracy: 97.15% - Test Accuracy: 98.92%\n"
          ]
        },
        {
          "output_type": "stream",
          "name": "stderr",
          "text": [
            "\n",
            "Epoch 16: 100%|██████████| 600/600 [00:27<00:00, 22.04batch/s]"
          ]
        },
        {
          "output_type": "stream",
          "name": "stdout",
          "text": [
            "\tLR:  0.1\n"
          ]
        },
        {
          "output_type": "stream",
          "name": "stderr",
          "text": [
            "\n",
            "Test 16: 100%|██████████| 100/100 [00:02<00:00, 43.69batch/s]"
          ]
        },
        {
          "output_type": "stream",
          "name": "stdout",
          "text": [
            "[Epoch 17] Train Loss: 0.000859 - Test Loss: 0.000301 - Train Accuracy: 97.22% - Test Accuracy: 99.18%\n"
          ]
        },
        {
          "output_type": "stream",
          "name": "stderr",
          "text": [
            "\n",
            "Epoch 17: 100%|██████████| 600/600 [00:26<00:00, 22.32batch/s]"
          ]
        },
        {
          "output_type": "stream",
          "name": "stdout",
          "text": [
            "\tLR:  0.1\n"
          ]
        },
        {
          "output_type": "stream",
          "name": "stderr",
          "text": [
            "\n",
            "Test 17: 100%|██████████| 100/100 [00:02<00:00, 43.71batch/s]"
          ]
        },
        {
          "output_type": "stream",
          "name": "stdout",
          "text": [
            "[Epoch 18] Train Loss: 0.000841 - Test Loss: 0.000335 - Train Accuracy: 97.31% - Test Accuracy: 99.05%\n"
          ]
        },
        {
          "output_type": "stream",
          "name": "stderr",
          "text": [
            "\n",
            "Epoch 18: 100%|██████████| 600/600 [00:27<00:00, 22.02batch/s]"
          ]
        },
        {
          "output_type": "stream",
          "name": "stdout",
          "text": [
            "\tLR:  0.1\n"
          ]
        },
        {
          "output_type": "stream",
          "name": "stderr",
          "text": [
            "\n",
            "Test 18: 100%|██████████| 100/100 [00:02<00:00, 39.37batch/s]"
          ]
        },
        {
          "output_type": "stream",
          "name": "stdout",
          "text": [
            "[Epoch 19] Train Loss: 0.000831 - Test Loss: 0.000361 - Train Accuracy: 97.35% - Test Accuracy: 98.84%\n"
          ]
        },
        {
          "output_type": "stream",
          "name": "stderr",
          "text": [
            "\n",
            "Epoch 19: 100%|██████████| 600/600 [00:26<00:00, 22.28batch/s]"
          ]
        },
        {
          "output_type": "stream",
          "name": "stdout",
          "text": [
            "\tLR:  0.1\n"
          ]
        },
        {
          "output_type": "stream",
          "name": "stderr",
          "text": [
            "\n",
            "Test 19: 100%|██████████| 100/100 [00:02<00:00, 44.52batch/s]"
          ]
        },
        {
          "output_type": "stream",
          "name": "stdout",
          "text": [
            "[Epoch 20] Train Loss: 0.000795 - Test Loss: 0.000301 - Train Accuracy: 97.56% - Test Accuracy: 98.98%\n"
          ]
        },
        {
          "output_type": "stream",
          "name": "stderr",
          "text": [
            "\n",
            "Epoch 20: 100%|██████████| 600/600 [00:26<00:00, 22.34batch/s]"
          ]
        },
        {
          "output_type": "stream",
          "name": "stdout",
          "text": [
            "\tLR:  0.1\n"
          ]
        },
        {
          "output_type": "stream",
          "name": "stderr",
          "text": [
            "\n",
            "Test 20: 100%|██████████| 100/100 [00:02<00:00, 34.84batch/s]"
          ]
        },
        {
          "output_type": "stream",
          "name": "stdout",
          "text": [
            "[Epoch 21] Train Loss: 0.000781 - Test Loss: 0.000329 - Train Accuracy: 97.54% - Test Accuracy: 98.93%\n"
          ]
        },
        {
          "output_type": "stream",
          "name": "stderr",
          "text": [
            "\n",
            "Epoch 21: 100%|██████████| 600/600 [00:26<00:00, 22.27batch/s]"
          ]
        },
        {
          "output_type": "stream",
          "name": "stdout",
          "text": [
            "\tLR:  0.1\n"
          ]
        },
        {
          "output_type": "stream",
          "name": "stderr",
          "text": [
            "\n",
            "Test 21: 100%|██████████| 100/100 [00:02<00:00, 43.42batch/s]"
          ]
        },
        {
          "output_type": "stream",
          "name": "stdout",
          "text": [
            "[Epoch 22] Train Loss: 0.000758 - Test Loss: 0.000278 - Train Accuracy: 97.55% - Test Accuracy: 99.10%\n"
          ]
        },
        {
          "output_type": "stream",
          "name": "stderr",
          "text": [
            "\n",
            "Epoch 22: 100%|██████████| 600/600 [00:26<00:00, 22.35batch/s]"
          ]
        },
        {
          "output_type": "stream",
          "name": "stdout",
          "text": [
            "\tLR:  0.1\n"
          ]
        },
        {
          "output_type": "stream",
          "name": "stderr",
          "text": [
            "\n",
            "Test 22: 100%|██████████| 100/100 [00:02<00:00, 41.77batch/s]"
          ]
        },
        {
          "output_type": "stream",
          "name": "stdout",
          "text": [
            "[Epoch 23] Train Loss: 0.000732 - Test Loss: 0.000307 - Train Accuracy: 97.62% - Test Accuracy: 98.95%\n"
          ]
        },
        {
          "output_type": "stream",
          "name": "stderr",
          "text": [
            "\n",
            "Epoch 23: 100%|██████████| 600/600 [00:27<00:00, 21.91batch/s]"
          ]
        },
        {
          "output_type": "stream",
          "name": "stdout",
          "text": [
            "\tLR:  0.1\n"
          ]
        },
        {
          "output_type": "stream",
          "name": "stderr",
          "text": [
            "\n",
            "Test 23: 100%|██████████| 100/100 [00:02<00:00, 43.58batch/s]"
          ]
        },
        {
          "output_type": "stream",
          "name": "stdout",
          "text": [
            "[Epoch 24] Train Loss: 0.000731 - Test Loss: 0.000282 - Train Accuracy: 97.62% - Test Accuracy: 99.09%\n"
          ]
        },
        {
          "output_type": "stream",
          "name": "stderr",
          "text": [
            "\n",
            "Epoch 24: 100%|██████████| 600/600 [00:26<00:00, 22.34batch/s]"
          ]
        },
        {
          "output_type": "stream",
          "name": "stdout",
          "text": [
            "\tLR:  0.010000000000000002\n"
          ]
        },
        {
          "output_type": "stream",
          "name": "stderr",
          "text": [
            "\n",
            "Test 24: 100%|██████████| 100/100 [00:02<00:00, 43.23batch/s]"
          ]
        },
        {
          "output_type": "stream",
          "name": "stdout",
          "text": [
            "[Epoch 25] Train Loss: 0.000726 - Test Loss: 0.000296 - Train Accuracy: 97.69% - Test Accuracy: 98.97%\n"
          ]
        },
        {
          "output_type": "stream",
          "name": "stderr",
          "text": [
            "\n",
            "Epoch 25: 100%|██████████| 600/600 [00:26<00:00, 22.23batch/s]"
          ]
        },
        {
          "output_type": "stream",
          "name": "stdout",
          "text": [
            "\tLR:  0.010000000000000002\n"
          ]
        },
        {
          "output_type": "stream",
          "name": "stderr",
          "text": [
            "\n",
            "Test 25: 100%|██████████| 100/100 [00:02<00:00, 36.50batch/s]"
          ]
        },
        {
          "output_type": "stream",
          "name": "stdout",
          "text": [
            "[Epoch 26] Train Loss: 0.000589 - Test Loss: 0.000229 - Train Accuracy: 98.12% - Test Accuracy: 99.18%\n"
          ]
        },
        {
          "output_type": "stream",
          "name": "stderr",
          "text": [
            "\n",
            "Epoch 26: 100%|██████████| 600/600 [00:26<00:00, 22.29batch/s]"
          ]
        },
        {
          "output_type": "stream",
          "name": "stdout",
          "text": [
            "\tLR:  0.010000000000000002\n"
          ]
        },
        {
          "output_type": "stream",
          "name": "stderr",
          "text": [
            "\n",
            "Test 26: 100%|██████████| 100/100 [00:02<00:00, 42.59batch/s]"
          ]
        },
        {
          "output_type": "stream",
          "name": "stdout",
          "text": [
            "[Epoch 27] Train Loss: 0.000555 - Test Loss: 0.000222 - Train Accuracy: 98.21% - Test Accuracy: 99.17%\n"
          ]
        },
        {
          "output_type": "stream",
          "name": "stderr",
          "text": [
            "\n",
            "Epoch 27: 100%|██████████| 600/600 [00:27<00:00, 22.13batch/s]"
          ]
        },
        {
          "output_type": "stream",
          "name": "stdout",
          "text": [
            "\tLR:  0.010000000000000002\n"
          ]
        },
        {
          "output_type": "stream",
          "name": "stderr",
          "text": [
            "\n",
            "Test 27: 100%|██████████| 100/100 [00:02<00:00, 36.95batch/s]"
          ]
        },
        {
          "output_type": "stream",
          "name": "stdout",
          "text": [
            "[Epoch 28] Train Loss: 0.000506 - Test Loss: 0.000217 - Train Accuracy: 98.34% - Test Accuracy: 99.22%\n"
          ]
        },
        {
          "output_type": "stream",
          "name": "stderr",
          "text": [
            "\n",
            "Epoch 28: 100%|██████████| 600/600 [00:26<00:00, 22.28batch/s]"
          ]
        },
        {
          "output_type": "stream",
          "name": "stdout",
          "text": [
            "\tLR:  0.010000000000000002\n"
          ]
        },
        {
          "output_type": "stream",
          "name": "stderr",
          "text": [
            "\n",
            "Test 28: 100%|██████████| 100/100 [00:02<00:00, 43.74batch/s]"
          ]
        },
        {
          "output_type": "stream",
          "name": "stdout",
          "text": [
            "[Epoch 29] Train Loss: 0.000514 - Test Loss: 0.000201 - Train Accuracy: 98.37% - Test Accuracy: 99.30%\n"
          ]
        },
        {
          "output_type": "stream",
          "name": "stderr",
          "text": [
            "\n",
            "Epoch 29: 100%|██████████| 600/600 [00:26<00:00, 22.37batch/s]"
          ]
        },
        {
          "output_type": "stream",
          "name": "stdout",
          "text": [
            "\tLR:  0.010000000000000002\n"
          ]
        },
        {
          "output_type": "stream",
          "name": "stderr",
          "text": [
            "\n",
            "Test 29: 100%|██████████| 100/100 [00:02<00:00, 44.30batch/s]"
          ]
        },
        {
          "output_type": "stream",
          "name": "stdout",
          "text": [
            "[Epoch 30] Train Loss: 0.000515 - Test Loss: 0.000206 - Train Accuracy: 98.35% - Test Accuracy: 99.26%\n"
          ]
        },
        {
          "output_type": "stream",
          "name": "stderr",
          "text": [
            "\n",
            "Epoch 30: 100%|██████████| 600/600 [00:27<00:00, 21.96batch/s]"
          ]
        },
        {
          "output_type": "stream",
          "name": "stdout",
          "text": [
            "\tLR:  0.010000000000000002\n"
          ]
        },
        {
          "output_type": "stream",
          "name": "stderr",
          "text": [
            "\n",
            "Test 30: 100%|██████████| 100/100 [00:02<00:00, 43.28batch/s]"
          ]
        },
        {
          "output_type": "stream",
          "name": "stdout",
          "text": [
            "[Epoch 31] Train Loss: 0.000498 - Test Loss: 0.000203 - Train Accuracy: 98.40% - Test Accuracy: 99.30%\n"
          ]
        },
        {
          "output_type": "stream",
          "name": "stderr",
          "text": [
            "\n",
            "Epoch 31: 100%|██████████| 600/600 [00:26<00:00, 22.60batch/s]"
          ]
        },
        {
          "output_type": "stream",
          "name": "stdout",
          "text": [
            "\tLR:  0.010000000000000002\n"
          ]
        },
        {
          "output_type": "stream",
          "name": "stderr",
          "text": [
            "\n",
            "Test 31: 100%|██████████| 100/100 [00:02<00:00, 44.03batch/s]"
          ]
        },
        {
          "output_type": "stream",
          "name": "stdout",
          "text": [
            "[Epoch 32] Train Loss: 0.000501 - Test Loss: 0.000200 - Train Accuracy: 98.39% - Test Accuracy: 99.26%\n"
          ]
        },
        {
          "output_type": "stream",
          "name": "stderr",
          "text": [
            "\n",
            "Epoch 32: 100%|██████████| 600/600 [00:26<00:00, 22.56batch/s]"
          ]
        },
        {
          "output_type": "stream",
          "name": "stdout",
          "text": [
            "\tLR:  0.010000000000000002\n"
          ]
        },
        {
          "output_type": "stream",
          "name": "stderr",
          "text": [
            "\n",
            "Test 32: 100%|██████████| 100/100 [00:02<00:00, 34.26batch/s]"
          ]
        },
        {
          "output_type": "stream",
          "name": "stdout",
          "text": [
            "[Epoch 33] Train Loss: 0.000478 - Test Loss: 0.000201 - Train Accuracy: 98.42% - Test Accuracy: 99.32%\n"
          ]
        },
        {
          "output_type": "stream",
          "name": "stderr",
          "text": [
            "\n",
            "Epoch 33: 100%|██████████| 600/600 [00:26<00:00, 22.43batch/s]"
          ]
        },
        {
          "output_type": "stream",
          "name": "stdout",
          "text": [
            "\tLR:  0.010000000000000002\n"
          ]
        },
        {
          "output_type": "stream",
          "name": "stderr",
          "text": [
            "\n",
            "Test 33: 100%|██████████| 100/100 [00:02<00:00, 42.44batch/s]"
          ]
        },
        {
          "output_type": "stream",
          "name": "stdout",
          "text": [
            "[Epoch 34] Train Loss: 0.000482 - Test Loss: 0.000194 - Train Accuracy: 98.48% - Test Accuracy: 99.32%\n"
          ]
        },
        {
          "output_type": "stream",
          "name": "stderr",
          "text": [
            "\n",
            "Epoch 34: 100%|██████████| 600/600 [00:26<00:00, 22.25batch/s]"
          ]
        },
        {
          "output_type": "stream",
          "name": "stdout",
          "text": [
            "\tLR:  0.010000000000000002\n"
          ]
        },
        {
          "output_type": "stream",
          "name": "stderr",
          "text": [
            "\n",
            "Test 34: 100%|██████████| 100/100 [00:02<00:00, 44.55batch/s]"
          ]
        },
        {
          "output_type": "stream",
          "name": "stdout",
          "text": [
            "[Epoch 35] Train Loss: 0.000456 - Test Loss: 0.000192 - Train Accuracy: 98.52% - Test Accuracy: 99.31%\n"
          ]
        },
        {
          "output_type": "stream",
          "name": "stderr",
          "text": [
            "\n",
            "Epoch 35: 100%|██████████| 600/600 [00:27<00:00, 21.89batch/s]"
          ]
        },
        {
          "output_type": "stream",
          "name": "stdout",
          "text": [
            "\tLR:  0.010000000000000002\n"
          ]
        },
        {
          "output_type": "stream",
          "name": "stderr",
          "text": [
            "\n",
            "Test 35: 100%|██████████| 100/100 [00:02<00:00, 44.69batch/s]"
          ]
        },
        {
          "output_type": "stream",
          "name": "stdout",
          "text": [
            "[Epoch 36] Train Loss: 0.000475 - Test Loss: 0.000191 - Train Accuracy: 98.47% - Test Accuracy: 99.32%\n"
          ]
        },
        {
          "output_type": "stream",
          "name": "stderr",
          "text": [
            "\n",
            "Epoch 36: 100%|██████████| 600/600 [00:26<00:00, 22.50batch/s]"
          ]
        },
        {
          "output_type": "stream",
          "name": "stdout",
          "text": [
            "\tLR:  0.010000000000000002\n"
          ]
        },
        {
          "output_type": "stream",
          "name": "stderr",
          "text": [
            "\n",
            "Test 36: 100%|██████████| 100/100 [00:02<00:00, 42.54batch/s]\n"
          ]
        },
        {
          "output_type": "stream",
          "name": "stdout",
          "text": [
            "[Epoch 37] Train Loss: 0.000462 - Test Loss: 0.000190 - Train Accuracy: 98.50% - Test Accuracy: 99.34%\n"
          ]
        },
        {
          "output_type": "stream",
          "name": "stderr",
          "text": [
            "Epoch 37: 100%|██████████| 600/600 [00:26<00:00, 22.25batch/s]"
          ]
        },
        {
          "output_type": "stream",
          "name": "stdout",
          "text": [
            "\tLR:  0.010000000000000002\n"
          ]
        },
        {
          "output_type": "stream",
          "name": "stderr",
          "text": [
            "\n",
            "Test 37: 100%|██████████| 100/100 [00:02<00:00, 37.24batch/s]"
          ]
        },
        {
          "output_type": "stream",
          "name": "stdout",
          "text": [
            "[Epoch 38] Train Loss: 0.000463 - Test Loss: 0.000188 - Train Accuracy: 98.48% - Test Accuracy: 99.34%\n"
          ]
        },
        {
          "output_type": "stream",
          "name": "stderr",
          "text": [
            "\n",
            "Epoch 38: 100%|██████████| 600/600 [00:26<00:00, 22.70batch/s]"
          ]
        },
        {
          "output_type": "stream",
          "name": "stdout",
          "text": [
            "\tLR:  0.010000000000000002\n"
          ]
        },
        {
          "output_type": "stream",
          "name": "stderr",
          "text": [
            "\n",
            "Test 38: 100%|██████████| 100/100 [00:02<00:00, 43.67batch/s]"
          ]
        },
        {
          "output_type": "stream",
          "name": "stdout",
          "text": [
            "[Epoch 39] Train Loss: 0.000465 - Test Loss: 0.000190 - Train Accuracy: 98.54% - Test Accuracy: 99.32%\n"
          ]
        },
        {
          "output_type": "stream",
          "name": "stderr",
          "text": [
            "\n",
            "Epoch 39: 100%|██████████| 600/600 [00:26<00:00, 22.84batch/s]"
          ]
        },
        {
          "output_type": "stream",
          "name": "stdout",
          "text": [
            "\tLR:  0.010000000000000002\n"
          ]
        },
        {
          "output_type": "stream",
          "name": "stderr",
          "text": [
            "\n",
            "Test 39: 100%|██████████| 100/100 [00:02<00:00, 43.30batch/s]"
          ]
        },
        {
          "output_type": "stream",
          "name": "stdout",
          "text": [
            "[Epoch 40] Train Loss: 0.000449 - Test Loss: 0.000197 - Train Accuracy: 98.53% - Test Accuracy: 99.33%\n"
          ]
        },
        {
          "output_type": "stream",
          "name": "stderr",
          "text": [
            "\n",
            "Epoch 40: 100%|██████████| 600/600 [00:27<00:00, 22.11batch/s]\n"
          ]
        },
        {
          "output_type": "stream",
          "name": "stdout",
          "text": [
            "\tLR:  0.010000000000000002\n"
          ]
        },
        {
          "output_type": "stream",
          "name": "stderr",
          "text": [
            "Test 40: 100%|██████████| 100/100 [00:02<00:00, 42.93batch/s]"
          ]
        },
        {
          "output_type": "stream",
          "name": "stdout",
          "text": [
            "[Epoch 41] Train Loss: 0.000464 - Test Loss: 0.000190 - Train Accuracy: 98.52% - Test Accuracy: 99.25%\n"
          ]
        },
        {
          "output_type": "stream",
          "name": "stderr",
          "text": [
            "\n",
            "Epoch 41: 100%|██████████| 600/600 [00:27<00:00, 22.16batch/s]"
          ]
        },
        {
          "output_type": "stream",
          "name": "stdout",
          "text": [
            "\tLR:  0.010000000000000002\n"
          ]
        },
        {
          "output_type": "stream",
          "name": "stderr",
          "text": [
            "\n",
            "Test 41: 100%|██████████| 100/100 [00:02<00:00, 43.00batch/s]"
          ]
        },
        {
          "output_type": "stream",
          "name": "stdout",
          "text": [
            "[Epoch 42] Train Loss: 0.000440 - Test Loss: 0.000192 - Train Accuracy: 98.54% - Test Accuracy: 99.28%\n"
          ]
        },
        {
          "output_type": "stream",
          "name": "stderr",
          "text": [
            "\n",
            "Epoch 42: 100%|██████████| 600/600 [00:26<00:00, 22.23batch/s]"
          ]
        },
        {
          "output_type": "stream",
          "name": "stdout",
          "text": [
            "\tLR:  0.010000000000000002\n"
          ]
        },
        {
          "output_type": "stream",
          "name": "stderr",
          "text": [
            "\n",
            "Test 42: 100%|██████████| 100/100 [00:02<00:00, 36.40batch/s]"
          ]
        },
        {
          "output_type": "stream",
          "name": "stdout",
          "text": [
            "[Epoch 43] Train Loss: 0.000427 - Test Loss: 0.000199 - Train Accuracy: 98.62% - Test Accuracy: 99.27%\n"
          ]
        },
        {
          "output_type": "stream",
          "name": "stderr",
          "text": [
            "\n",
            "Epoch 43: 100%|██████████| 600/600 [00:26<00:00, 22.67batch/s]"
          ]
        },
        {
          "output_type": "stream",
          "name": "stdout",
          "text": [
            "\tLR:  0.010000000000000002\n"
          ]
        },
        {
          "output_type": "stream",
          "name": "stderr",
          "text": [
            "\n",
            "Test 43: 100%|██████████| 100/100 [00:02<00:00, 43.47batch/s]"
          ]
        },
        {
          "output_type": "stream",
          "name": "stdout",
          "text": [
            "[Epoch 44] Train Loss: 0.000445 - Test Loss: 0.000189 - Train Accuracy: 98.56% - Test Accuracy: 99.29%\n"
          ]
        },
        {
          "output_type": "stream",
          "name": "stderr",
          "text": [
            "\n",
            "Epoch 44: 100%|██████████| 600/600 [00:26<00:00, 22.62batch/s]"
          ]
        },
        {
          "output_type": "stream",
          "name": "stdout",
          "text": [
            "\tLR:  0.010000000000000002\n"
          ]
        },
        {
          "output_type": "stream",
          "name": "stderr",
          "text": [
            "\n",
            "Test 44: 100%|██████████| 100/100 [00:02<00:00, 41.33batch/s]"
          ]
        },
        {
          "output_type": "stream",
          "name": "stdout",
          "text": [
            "[Epoch 45] Train Loss: 0.000446 - Test Loss: 0.000186 - Train Accuracy: 98.53% - Test Accuracy: 99.34%\n"
          ]
        },
        {
          "output_type": "stream",
          "name": "stderr",
          "text": [
            "\n",
            "Epoch 45: 100%|██████████| 600/600 [00:28<00:00, 21.17batch/s]"
          ]
        },
        {
          "output_type": "stream",
          "name": "stdout",
          "text": [
            "\tLR:  0.010000000000000002\n"
          ]
        },
        {
          "output_type": "stream",
          "name": "stderr",
          "text": [
            "\n",
            "Test 45: 100%|██████████| 100/100 [00:02<00:00, 38.45batch/s]"
          ]
        },
        {
          "output_type": "stream",
          "name": "stdout",
          "text": [
            "[Epoch 46] Train Loss: 0.000441 - Test Loss: 0.000186 - Train Accuracy: 98.54% - Test Accuracy: 99.29%\n"
          ]
        },
        {
          "output_type": "stream",
          "name": "stderr",
          "text": [
            "\n",
            "Epoch 46: 100%|██████████| 600/600 [00:28<00:00, 21.23batch/s]"
          ]
        },
        {
          "output_type": "stream",
          "name": "stdout",
          "text": [
            "\tLR:  0.010000000000000002\n"
          ]
        },
        {
          "output_type": "stream",
          "name": "stderr",
          "text": [
            "\n",
            "Test 46: 100%|██████████| 100/100 [00:02<00:00, 40.60batch/s]"
          ]
        },
        {
          "output_type": "stream",
          "name": "stdout",
          "text": [
            "[Epoch 47] Train Loss: 0.000436 - Test Loss: 0.000193 - Train Accuracy: 98.59% - Test Accuracy: 99.31%\n"
          ]
        },
        {
          "output_type": "stream",
          "name": "stderr",
          "text": [
            "\n",
            "Epoch 47: 100%|██████████| 600/600 [00:27<00:00, 21.92batch/s]"
          ]
        },
        {
          "output_type": "stream",
          "name": "stdout",
          "text": [
            "\tLR:  0.010000000000000002\n"
          ]
        },
        {
          "output_type": "stream",
          "name": "stderr",
          "text": [
            "\n",
            "Test 47: 100%|██████████| 100/100 [00:02<00:00, 44.07batch/s]"
          ]
        },
        {
          "output_type": "stream",
          "name": "stdout",
          "text": [
            "[Epoch 48] Train Loss: 0.000428 - Test Loss: 0.000197 - Train Accuracy: 98.63% - Test Accuracy: 99.26%\n"
          ]
        },
        {
          "output_type": "stream",
          "name": "stderr",
          "text": [
            "\n",
            "Epoch 48: 100%|██████████| 600/600 [00:26<00:00, 22.74batch/s]"
          ]
        },
        {
          "output_type": "stream",
          "name": "stdout",
          "text": [
            "\tLR:  0.010000000000000002\n"
          ]
        },
        {
          "output_type": "stream",
          "name": "stderr",
          "text": [
            "\n",
            "Test 48: 100%|██████████| 100/100 [00:02<00:00, 44.60batch/s]"
          ]
        },
        {
          "output_type": "stream",
          "name": "stdout",
          "text": [
            "[Epoch 49] Train Loss: 0.000434 - Test Loss: 0.000182 - Train Accuracy: 98.57% - Test Accuracy: 99.33%\n"
          ]
        },
        {
          "output_type": "stream",
          "name": "stderr",
          "text": [
            "\n",
            "Epoch 49: 100%|██████████| 600/600 [00:26<00:00, 22.38batch/s]"
          ]
        },
        {
          "output_type": "stream",
          "name": "stdout",
          "text": [
            "\tLR:  0.0010000000000000002\n"
          ]
        },
        {
          "output_type": "stream",
          "name": "stderr",
          "text": [
            "\n",
            "Test 49: 100%|██████████| 100/100 [00:02<00:00, 35.77batch/s]"
          ]
        },
        {
          "output_type": "stream",
          "name": "stdout",
          "text": [
            "[Epoch 50] Train Loss: 0.000421 - Test Loss: 0.000185 - Train Accuracy: 98.61% - Test Accuracy: 99.30%\n"
          ]
        },
        {
          "output_type": "stream",
          "name": "stderr",
          "text": [
            "\n",
            "Epoch 50: 100%|██████████| 600/600 [00:26<00:00, 22.61batch/s]"
          ]
        },
        {
          "output_type": "stream",
          "name": "stdout",
          "text": [
            "\tLR:  0.0010000000000000002\n"
          ]
        },
        {
          "output_type": "stream",
          "name": "stderr",
          "text": [
            "\n",
            "Test 50: 100%|██████████| 100/100 [00:02<00:00, 43.67batch/s]"
          ]
        },
        {
          "output_type": "stream",
          "name": "stdout",
          "text": [
            "[Epoch 51] Train Loss: 0.000422 - Test Loss: 0.000180 - Train Accuracy: 98.64% - Test Accuracy: 99.30%\n"
          ]
        },
        {
          "output_type": "stream",
          "name": "stderr",
          "text": [
            "\n",
            "Epoch 51: 100%|██████████| 600/600 [00:26<00:00, 22.33batch/s]"
          ]
        },
        {
          "output_type": "stream",
          "name": "stdout",
          "text": [
            "\tLR:  0.0010000000000000002\n"
          ]
        },
        {
          "output_type": "stream",
          "name": "stderr",
          "text": [
            "\n",
            "Test 51: 100%|██████████| 100/100 [00:02<00:00, 41.54batch/s]"
          ]
        },
        {
          "output_type": "stream",
          "name": "stdout",
          "text": [
            "[Epoch 52] Train Loss: 0.000397 - Test Loss: 0.000181 - Train Accuracy: 98.65% - Test Accuracy: 99.29%\n"
          ]
        },
        {
          "output_type": "stream",
          "name": "stderr",
          "text": [
            "\n",
            "Epoch 52: 100%|██████████| 600/600 [00:27<00:00, 22.01batch/s]"
          ]
        },
        {
          "output_type": "stream",
          "name": "stdout",
          "text": [
            "\tLR:  0.0010000000000000002\n"
          ]
        },
        {
          "output_type": "stream",
          "name": "stderr",
          "text": [
            "\n",
            "Test 52: 100%|██████████| 100/100 [00:02<00:00, 43.52batch/s]"
          ]
        },
        {
          "output_type": "stream",
          "name": "stdout",
          "text": [
            "[Epoch 53] Train Loss: 0.000421 - Test Loss: 0.000175 - Train Accuracy: 98.63% - Test Accuracy: 99.32%\n"
          ]
        },
        {
          "output_type": "stream",
          "name": "stderr",
          "text": [
            "\n",
            "Epoch 53: 100%|██████████| 600/600 [00:26<00:00, 22.26batch/s]"
          ]
        },
        {
          "output_type": "stream",
          "name": "stdout",
          "text": [
            "\tLR:  0.0010000000000000002\n"
          ]
        },
        {
          "output_type": "stream",
          "name": "stderr",
          "text": [
            "\n",
            "Test 53: 100%|██████████| 100/100 [00:02<00:00, 42.29batch/s]"
          ]
        },
        {
          "output_type": "stream",
          "name": "stdout",
          "text": [
            "[Epoch 54] Train Loss: 0.000433 - Test Loss: 0.000186 - Train Accuracy: 98.58% - Test Accuracy: 99.31%\n"
          ]
        },
        {
          "output_type": "stream",
          "name": "stderr",
          "text": [
            "\n",
            "Epoch 54: 100%|██████████| 600/600 [00:27<00:00, 21.73batch/s]"
          ]
        },
        {
          "output_type": "stream",
          "name": "stdout",
          "text": [
            "\tLR:  0.0010000000000000002\n"
          ]
        },
        {
          "output_type": "stream",
          "name": "stderr",
          "text": [
            "\n",
            "Test 54: 100%|██████████| 100/100 [00:02<00:00, 40.16batch/s]"
          ]
        },
        {
          "output_type": "stream",
          "name": "stdout",
          "text": [
            "[Epoch 55] Train Loss: 0.000399 - Test Loss: 0.000179 - Train Accuracy: 98.69% - Test Accuracy: 99.31%\n"
          ]
        },
        {
          "output_type": "stream",
          "name": "stderr",
          "text": [
            "\n",
            "Epoch 55: 100%|██████████| 600/600 [00:27<00:00, 21.85batch/s]"
          ]
        },
        {
          "output_type": "stream",
          "name": "stdout",
          "text": [
            "\tLR:  0.0010000000000000002\n"
          ]
        },
        {
          "output_type": "stream",
          "name": "stderr",
          "text": [
            "\n",
            "Test 55: 100%|██████████| 100/100 [00:02<00:00, 43.33batch/s]"
          ]
        },
        {
          "output_type": "stream",
          "name": "stdout",
          "text": [
            "[Epoch 56] Train Loss: 0.000400 - Test Loss: 0.000181 - Train Accuracy: 98.72% - Test Accuracy: 99.35%\n"
          ]
        },
        {
          "output_type": "stream",
          "name": "stderr",
          "text": [
            "\n",
            "Epoch 56: 100%|██████████| 600/600 [00:26<00:00, 22.24batch/s]"
          ]
        },
        {
          "output_type": "stream",
          "name": "stdout",
          "text": [
            "\tLR:  0.0010000000000000002\n"
          ]
        },
        {
          "output_type": "stream",
          "name": "stderr",
          "text": [
            "\n",
            "Test 56: 100%|██████████| 100/100 [00:02<00:00, 35.48batch/s]"
          ]
        },
        {
          "output_type": "stream",
          "name": "stdout",
          "text": [
            "[Epoch 57] Train Loss: 0.000418 - Test Loss: 0.000184 - Train Accuracy: 98.64% - Test Accuracy: 99.32%\n"
          ]
        },
        {
          "output_type": "stream",
          "name": "stderr",
          "text": [
            "\n",
            "Epoch 57: 100%|██████████| 600/600 [00:26<00:00, 22.35batch/s]"
          ]
        },
        {
          "output_type": "stream",
          "name": "stdout",
          "text": [
            "\tLR:  0.0010000000000000002\n"
          ]
        },
        {
          "output_type": "stream",
          "name": "stderr",
          "text": [
            "\n",
            "Test 57: 100%|██████████| 100/100 [00:02<00:00, 43.39batch/s]"
          ]
        },
        {
          "output_type": "stream",
          "name": "stdout",
          "text": [
            "[Epoch 58] Train Loss: 0.000418 - Test Loss: 0.000183 - Train Accuracy: 98.63% - Test Accuracy: 99.30%\n"
          ]
        },
        {
          "output_type": "stream",
          "name": "stderr",
          "text": [
            "\n",
            "Epoch 58: 100%|██████████| 600/600 [00:26<00:00, 22.50batch/s]"
          ]
        },
        {
          "output_type": "stream",
          "name": "stdout",
          "text": [
            "\tLR:  0.0010000000000000002\n"
          ]
        },
        {
          "output_type": "stream",
          "name": "stderr",
          "text": [
            "\n",
            "Test 58: 100%|██████████| 100/100 [00:02<00:00, 41.34batch/s]"
          ]
        },
        {
          "output_type": "stream",
          "name": "stdout",
          "text": [
            "[Epoch 59] Train Loss: 0.000405 - Test Loss: 0.000182 - Train Accuracy: 98.69% - Test Accuracy: 99.33%\n"
          ]
        },
        {
          "output_type": "stream",
          "name": "stderr",
          "text": [
            "\n",
            "Epoch 59: 100%|██████████| 600/600 [00:27<00:00, 22.22batch/s]"
          ]
        },
        {
          "output_type": "stream",
          "name": "stdout",
          "text": [
            "\tLR:  0.0010000000000000002\n"
          ]
        },
        {
          "output_type": "stream",
          "name": "stderr",
          "text": [
            "\n",
            "Test 59: 100%|██████████| 100/100 [00:02<00:00, 44.68batch/s]"
          ]
        },
        {
          "output_type": "stream",
          "name": "stdout",
          "text": [
            "[Epoch 60] Train Loss: 0.000414 - Test Loss: 0.000179 - Train Accuracy: 98.69% - Test Accuracy: 99.32%\n"
          ]
        },
        {
          "output_type": "stream",
          "name": "stderr",
          "text": [
            "\n",
            "Epoch 60: 100%|██████████| 600/600 [00:26<00:00, 22.55batch/s]"
          ]
        },
        {
          "output_type": "stream",
          "name": "stdout",
          "text": [
            "\tLR:  0.0010000000000000002\n"
          ]
        },
        {
          "output_type": "stream",
          "name": "stderr",
          "text": [
            "\n",
            "Test 60: 100%|██████████| 100/100 [00:02<00:00, 44.14batch/s]"
          ]
        },
        {
          "output_type": "stream",
          "name": "stdout",
          "text": [
            "[Epoch 61] Train Loss: 0.000403 - Test Loss: 0.000181 - Train Accuracy: 98.71% - Test Accuracy: 99.32%\n"
          ]
        },
        {
          "output_type": "stream",
          "name": "stderr",
          "text": [
            "\n",
            "Epoch 61: 100%|██████████| 600/600 [00:26<00:00, 22.53batch/s]"
          ]
        },
        {
          "output_type": "stream",
          "name": "stdout",
          "text": [
            "\tLR:  0.0010000000000000002\n"
          ]
        },
        {
          "output_type": "stream",
          "name": "stderr",
          "text": [
            "\n",
            "Test 61: 100%|██████████| 100/100 [00:02<00:00, 35.07batch/s]"
          ]
        },
        {
          "output_type": "stream",
          "name": "stdout",
          "text": [
            "[Epoch 62] Train Loss: 0.000409 - Test Loss: 0.000179 - Train Accuracy: 98.65% - Test Accuracy: 99.33%\n"
          ]
        },
        {
          "output_type": "stream",
          "name": "stderr",
          "text": [
            "\n",
            "Epoch 62: 100%|██████████| 600/600 [00:26<00:00, 22.50batch/s]"
          ]
        },
        {
          "output_type": "stream",
          "name": "stdout",
          "text": [
            "\tLR:  0.0010000000000000002\n"
          ]
        },
        {
          "output_type": "stream",
          "name": "stderr",
          "text": [
            "\n",
            "Test 62: 100%|██████████| 100/100 [00:02<00:00, 44.35batch/s]"
          ]
        },
        {
          "output_type": "stream",
          "name": "stdout",
          "text": [
            "[Epoch 63] Train Loss: 0.000420 - Test Loss: 0.000179 - Train Accuracy: 98.68% - Test Accuracy: 99.31%\n"
          ]
        },
        {
          "output_type": "stream",
          "name": "stderr",
          "text": [
            "\n",
            "Epoch 63: 100%|██████████| 600/600 [00:26<00:00, 22.54batch/s]"
          ]
        },
        {
          "output_type": "stream",
          "name": "stdout",
          "text": [
            "\tLR:  0.0010000000000000002\n"
          ]
        },
        {
          "output_type": "stream",
          "name": "stderr",
          "text": [
            "\n",
            "Test 63: 100%|██████████| 100/100 [00:02<00:00, 43.78batch/s]"
          ]
        },
        {
          "output_type": "stream",
          "name": "stdout",
          "text": [
            "[Epoch 64] Train Loss: 0.000419 - Test Loss: 0.000186 - Train Accuracy: 98.64% - Test Accuracy: 99.29%\n"
          ]
        },
        {
          "output_type": "stream",
          "name": "stderr",
          "text": [
            "\n",
            "Epoch 64: 100%|██████████| 600/600 [00:27<00:00, 21.96batch/s]"
          ]
        },
        {
          "output_type": "stream",
          "name": "stdout",
          "text": [
            "\tLR:  0.0010000000000000002\n"
          ]
        },
        {
          "output_type": "stream",
          "name": "stderr",
          "text": [
            "\n",
            "Test 64: 100%|██████████| 100/100 [00:02<00:00, 44.64batch/s]"
          ]
        },
        {
          "output_type": "stream",
          "name": "stdout",
          "text": [
            "[Epoch 65] Train Loss: 0.000382 - Test Loss: 0.000182 - Train Accuracy: 98.75% - Test Accuracy: 99.31%\n"
          ]
        },
        {
          "output_type": "stream",
          "name": "stderr",
          "text": [
            "\n",
            "Epoch 65: 100%|██████████| 600/600 [00:26<00:00, 22.57batch/s]"
          ]
        },
        {
          "output_type": "stream",
          "name": "stdout",
          "text": [
            "\tLR:  0.0010000000000000002\n"
          ]
        },
        {
          "output_type": "stream",
          "name": "stderr",
          "text": [
            "\n",
            "Test 65: 100%|██████████| 100/100 [00:02<00:00, 43.60batch/s]"
          ]
        },
        {
          "output_type": "stream",
          "name": "stdout",
          "text": [
            "[Epoch 66] Train Loss: 0.000407 - Test Loss: 0.000181 - Train Accuracy: 98.67% - Test Accuracy: 99.33%\n"
          ]
        },
        {
          "output_type": "stream",
          "name": "stderr",
          "text": [
            "\n",
            "Epoch 66: 100%|██████████| 600/600 [00:26<00:00, 22.52batch/s]"
          ]
        },
        {
          "output_type": "stream",
          "name": "stdout",
          "text": [
            "\tLR:  0.0010000000000000002\n"
          ]
        },
        {
          "output_type": "stream",
          "name": "stderr",
          "text": [
            "\n",
            "Test 66: 100%|██████████| 100/100 [00:02<00:00, 34.28batch/s]"
          ]
        },
        {
          "output_type": "stream",
          "name": "stdout",
          "text": [
            "[Epoch 67] Train Loss: 0.000413 - Test Loss: 0.000178 - Train Accuracy: 98.64% - Test Accuracy: 99.39%\n"
          ]
        },
        {
          "output_type": "stream",
          "name": "stderr",
          "text": [
            "\n",
            "Epoch 67: 100%|██████████| 600/600 [00:26<00:00, 22.39batch/s]"
          ]
        },
        {
          "output_type": "stream",
          "name": "stdout",
          "text": [
            "\tLR:  0.0010000000000000002\n"
          ]
        },
        {
          "output_type": "stream",
          "name": "stderr",
          "text": [
            "\n",
            "Test 67: 100%|██████████| 100/100 [00:02<00:00, 42.54batch/s]"
          ]
        },
        {
          "output_type": "stream",
          "name": "stdout",
          "text": [
            "[Epoch 68] Train Loss: 0.000417 - Test Loss: 0.000176 - Train Accuracy: 98.66% - Test Accuracy: 99.33%\n"
          ]
        },
        {
          "output_type": "stream",
          "name": "stderr",
          "text": [
            "\n",
            "Epoch 68: 100%|██████████| 600/600 [00:26<00:00, 22.46batch/s]"
          ]
        },
        {
          "output_type": "stream",
          "name": "stdout",
          "text": [
            "\tLR:  0.0010000000000000002\n"
          ]
        },
        {
          "output_type": "stream",
          "name": "stderr",
          "text": [
            "\n",
            "Test 68: 100%|██████████| 100/100 [00:02<00:00, 44.34batch/s]"
          ]
        },
        {
          "output_type": "stream",
          "name": "stdout",
          "text": [
            "[Epoch 69] Train Loss: 0.000403 - Test Loss: 0.000176 - Train Accuracy: 98.70% - Test Accuracy: 99.30%\n"
          ]
        },
        {
          "output_type": "stream",
          "name": "stderr",
          "text": [
            "\n",
            "Epoch 69: 100%|██████████| 600/600 [00:27<00:00, 22.03batch/s]"
          ]
        },
        {
          "output_type": "stream",
          "name": "stdout",
          "text": [
            "\tLR:  0.0010000000000000002\n"
          ]
        },
        {
          "output_type": "stream",
          "name": "stderr",
          "text": [
            "\n",
            "Test 69: 100%|██████████| 100/100 [00:02<00:00, 43.73batch/s]"
          ]
        },
        {
          "output_type": "stream",
          "name": "stdout",
          "text": [
            "[Epoch 70] Train Loss: 0.000405 - Test Loss: 0.000177 - Train Accuracy: 98.70% - Test Accuracy: 99.32%\n"
          ]
        },
        {
          "output_type": "stream",
          "name": "stderr",
          "text": [
            "\n",
            "Epoch 70: 100%|██████████| 600/600 [00:26<00:00, 22.56batch/s]"
          ]
        },
        {
          "output_type": "stream",
          "name": "stdout",
          "text": [
            "\tLR:  0.0010000000000000002\n"
          ]
        },
        {
          "output_type": "stream",
          "name": "stderr",
          "text": [
            "\n",
            "Test 70: 100%|██████████| 100/100 [00:02<00:00, 44.06batch/s]"
          ]
        },
        {
          "output_type": "stream",
          "name": "stdout",
          "text": [
            "[Epoch 71] Train Loss: 0.000414 - Test Loss: 0.000183 - Train Accuracy: 98.68% - Test Accuracy: 99.34%\n"
          ]
        },
        {
          "output_type": "stream",
          "name": "stderr",
          "text": [
            "\n",
            "Epoch 71: 100%|██████████| 600/600 [00:26<00:00, 22.56batch/s]"
          ]
        },
        {
          "output_type": "stream",
          "name": "stdout",
          "text": [
            "\tLR:  0.0010000000000000002\n"
          ]
        },
        {
          "output_type": "stream",
          "name": "stderr",
          "text": [
            "\n",
            "Test 71: 100%|██████████| 100/100 [00:02<00:00, 34.85batch/s]"
          ]
        },
        {
          "output_type": "stream",
          "name": "stdout",
          "text": [
            "[Epoch 72] Train Loss: 0.000400 - Test Loss: 0.000180 - Train Accuracy: 98.71% - Test Accuracy: 99.32%\n"
          ]
        },
        {
          "output_type": "stream",
          "name": "stderr",
          "text": [
            "\n",
            "Epoch 72: 100%|██████████| 600/600 [00:26<00:00, 22.68batch/s]"
          ]
        },
        {
          "output_type": "stream",
          "name": "stdout",
          "text": [
            "\tLR:  0.0010000000000000002\n"
          ]
        },
        {
          "output_type": "stream",
          "name": "stderr",
          "text": [
            "\n",
            "Test 72: 100%|██████████| 100/100 [00:02<00:00, 44.37batch/s]"
          ]
        },
        {
          "output_type": "stream",
          "name": "stdout",
          "text": [
            "[Epoch 73] Train Loss: 0.000406 - Test Loss: 0.000183 - Train Accuracy: 98.73% - Test Accuracy: 99.31%\n"
          ]
        },
        {
          "output_type": "stream",
          "name": "stderr",
          "text": [
            "\n",
            "Epoch 73: 100%|██████████| 600/600 [00:27<00:00, 21.93batch/s]"
          ]
        },
        {
          "output_type": "stream",
          "name": "stdout",
          "text": [
            "\tLR:  0.0010000000000000002\n"
          ]
        },
        {
          "output_type": "stream",
          "name": "stderr",
          "text": [
            "\n",
            "Test 73: 100%|██████████| 100/100 [00:02<00:00, 43.16batch/s]"
          ]
        },
        {
          "output_type": "stream",
          "name": "stdout",
          "text": [
            "[Epoch 74] Train Loss: 0.000396 - Test Loss: 0.000174 - Train Accuracy: 98.75% - Test Accuracy: 99.32%\n"
          ]
        },
        {
          "output_type": "stream",
          "name": "stderr",
          "text": [
            "\n",
            "Epoch 74: 100%|██████████| 600/600 [00:27<00:00, 21.72batch/s]"
          ]
        },
        {
          "output_type": "stream",
          "name": "stdout",
          "text": [
            "\tLR:  0.0010000000000000002\n"
          ]
        },
        {
          "output_type": "stream",
          "name": "stderr",
          "text": [
            "\n",
            "Test 74: 100%|██████████| 100/100 [00:02<00:00, 43.32batch/s]"
          ]
        },
        {
          "output_type": "stream",
          "name": "stdout",
          "text": [
            "[Epoch 75] Train Loss: 0.000395 - Test Loss: 0.000177 - Train Accuracy: 98.72% - Test Accuracy: 99.32%\n",
            "\n",
            "BEST TEST ACCURACY:  99.39  in epoch  66\n"
          ]
        },
        {
          "output_type": "stream",
          "name": "stderr",
          "text": [
            "\n",
            "Test 74: 100%|██████████| 100/100 [00:02<00:00, 44.06batch/s]"
          ]
        },
        {
          "output_type": "stream",
          "name": "stdout",
          "text": [
            "Final best acc:  99.39\n"
          ]
        },
        {
          "output_type": "stream",
          "name": "stderr",
          "text": [
            "\n"
          ]
        }
      ]
    }
  ]
}